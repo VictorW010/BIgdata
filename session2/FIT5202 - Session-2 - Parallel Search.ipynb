{
 "cells": [
  {
   "cell_type": "markdown",
   "metadata": {
    "colab_type": "text",
    "id": "lcWYqAxbFIee"
   },
   "source": [
    "# FIT5202 Data processing for Big data\n",
    "\n",
    "##  Activity: Parallel Search\n",
    "\n",
    "For this tutorial, we will focus on parallel search in Big Data. Thus, the following sections will be done:\n",
    "1. Review Data partitioning strategies\n",
    "2. Implement distinct searching functionalities using RDDs: \n",
    "3. Implement distinct searching functionalities using Spark SQL module: you will use the Spark API to use dataframes and Spark SQL to perform the search functionality as in section 1.\n",
    "\n",
    "\n",
    "Also, you will need to  visualise the parallelism on searching in these APIs and RDD implementation. Furthermore, you will need to look at the Query execution plan done by the Spark Optimizer Engine and understand how internally Spark executes or plans a searching function.\n",
    "\n",
    "Let's get started.\n",
    "\n",
    "## Table of Contents\n",
    "\n",
    "* [SparkContext and SparkSession](#one)\n",
    "* [Data Partitioning](#two)\n",
    "* [Spark RDDs](#three)\n",
    "    * [Data Partitioning in RDD](#three)\n",
    "        * [Default Partitioning](#default)\n",
    "        * [Hash Partitioning](#hash)\n",
    "        * [Range Partitioning](#range)\n",
    "    * [Parallel Search in RDDs](#parallel-search-rdd)    \n",
    "* [Spark DataFrames](#dataframes)\n",
    "    * [Data Partitioning in DataFrames](#df-partitioning)\n",
    "    * [Parallel Search in DataFrames](#parallel_search_df)    \n",
    "    * [Parallel Search with SparkSQL](#parallel_search_sparksql)       \n",
    "* [Lab Tasks](#lab-task-1)\n",
    "    * [Lab Task 1](#lab-task-1)\n",
    "    * [Lab Task 2](#lab-task-2)\n",
    "    * [Lab Task 3](#lab-task-3)\n",
    "    * [Lab Task 4](#lab-task-4)\n"
   ]
  },
  {
   "cell_type": "markdown",
   "metadata": {},
   "source": [
    "## SparkContext and SparkSession <a class=\"anchor\" name=\"one\"></a>"
   ]
  },
  {
   "cell_type": "code",
   "execution_count": 2,
   "metadata": {},
   "outputs": [
    {
     "data": {
      "text/html": [
       "\n",
       "        <div>\n",
       "            <p><b>SparkContext</b></p>\n",
       "\n",
       "            <p><a href=\"http://10.0.2.15:4041\">Spark UI</a></p>\n",
       "\n",
       "            <dl>\n",
       "              <dt>Version</dt>\n",
       "                <dd><code>v3.0.0</code></dd>\n",
       "              <dt>Master</dt>\n",
       "                <dd><code>local[*]</code></dd>\n",
       "              <dt>AppName</dt>\n",
       "                <dd><code>Parallel Search</code></dd>\n",
       "            </dl>\n",
       "        </div>\n",
       "        "
      ],
      "text/plain": [
       "<SparkContext master=local[*] appName=Parallel Search>"
      ]
     },
     "execution_count": 2,
     "metadata": {},
     "output_type": "execute_result"
    }
   ],
   "source": [
    "# Import SparkConf class into program\n",
    "from pyspark import SparkConf\n",
    "\n",
    "# local[*]: run Spark in local mode with as many working processors as logical cores on your machine\n",
    "# If we want Spark to run locally with 'k' worker threads, we can specify as \"local[k]\".\n",
    "master = \"local[*]\"\n",
    "# The `appName` field is a name to be shown on the Spark cluster UI page\n",
    "app_name = \"Parallel Search\"\n",
    "# Setup configuration parameters for Spark\n",
    "spark_conf = SparkConf().setMaster(master).setAppName(app_name)\n",
    "\n",
    "# Import SparkContext and SparkSession classes\n",
    "from pyspark import SparkContext # Spark\n",
    "from pyspark.sql import SparkSession # Spark SQL\n",
    "\n",
    "# Method 1: Using SparkSession\n",
    "spark = SparkSession.builder.config(conf=spark_conf).getOrCreate()\n",
    "sc = spark.sparkContext\n",
    "sc.setLogLevel('ERROR')\n",
    "\n",
    "# # Method 2: Getting or instantiating a SparkContext\n",
    "# sc = SparkContext.getOrCreate(spark_conf)\n",
    "# sc.setLogLevel('ERROR')\n",
    "\n",
    "sc"
   ]
  },
  {
   "cell_type": "markdown",
   "metadata": {},
   "source": [
    "## Data Partitioning <a class=\"anchor\" id=\"two\"></a>\n",
    "In this first part of the tutorial, we will do a quick review of a few data partitioning strategies which we will need to know for the rest of the topics in this tutorial.\n",
    "\n",
    "Data partitioning is the fundamental step for parallel search algorithms as parallelism in query and search processing is achieved through data partionining. \n",
    "In this activity, we will consider the following **three** partitioning strategies:\n",
    "#### 1. Round-robin data partitioning ###\n",
    "Round-robin data partitioning is the simplest data partitioning method in which each record in turn is allocated to a processing element (simply processor). Since it distributes the data evenly among all processors, it is also known as \"equal-partitioning\".\n",
    "\n",
    "#### 2. Range data partitioning ###\n",
    "Range data partitioning records based on a given range of the partitioning attribute. For example,the student table is partitioned based on \"Last Name\" based on the alphabetical order (i.e. A ~ Z). \n",
    "\n",
    "#### 3. Hash data partitioning ###\n",
    "Hash data partitioning makes a partition based on a particular attribute using a hash function. The result of a hash function determines the processor where the record will be placed. Thus, all records within a partition have the same hash value."
   ]
  },
  {
   "cell_type": "markdown",
   "metadata": {},
   "source": [
    "## RDD partitioning <a class=\"anchor\" id=\"three\"></a>\n",
    "\n",
    "By default, Spark partitions the data using <strong>Random equal partitioning</strong> unless there are specific transformations that uses a different type of partitioning</strong>\n",
    "In the code below, we have defined two functions to implement custom partitioning using <strong>Range Partitioning</strong> and <strong>Hash Partitioning</strong>.\n"
   ]
  },
  {
   "cell_type": "code",
   "execution_count": 2,
   "metadata": {},
   "outputs": [],
   "source": [
    "from pyspark.rdd import RDD\n",
    "\n",
    "#A Function to print the data items in each RDD\n",
    "#Same function is used to print out the data items of a DataFrame later\n",
    "def print_partitions(data):\n",
    "    if isinstance(data, RDD):\n",
    "        numPartitions = data.getNumPartitions()\n",
    "        partitions = data.glom().collect()\n",
    "    else:\n",
    "        numPartitions = data.rdd.getNumPartitions()\n",
    "        partitions = data.rdd.glom().collect()\n",
    "    \n",
    "    print(f\"####### NUMBER OF PARTITIONS: {numPartitions}\")\n",
    "    for index, partition in enumerate(partitions):\n",
    "        # show partition if it is not empty\n",
    "        if len(partition) > 0:\n",
    "            print(f\"Partition {index}: {len(partition)} records\")\n",
    "            # TODO: You can complete the code to show the values or some values for each partition\n",
    "            print(partition)"
   ]
  },
  {
   "cell_type": "code",
   "execution_count": 3,
   "metadata": {},
   "outputs": [],
   "source": [
    "#Sample data used for demonstrating the partitioning\n",
    "list_tutors = [(1,'Aaditya'),(2,'Chinnavit'),(3,'Neha'),(4,'Huashun'),(5,'Mohammad'),\n",
    "                (10,'Peter'),(11,'Paras'),(12, 'Tooba'),(3, 'David'),(18,'Cheng'),(9,'Haqqani')]\n",
    "\n",
    "#Define the number of partitions\n",
    "no_of_partitions = 4"
   ]
  },
  {
   "cell_type": "code",
   "execution_count": 4,
   "metadata": {},
   "outputs": [
    {
     "data": {
      "text/plain": [
       "(9, 'Haqqani')"
      ]
     },
     "execution_count": 4,
     "metadata": {},
     "output_type": "execute_result"
    }
   ],
   "source": [
    "(1,'Aaditya'),(2,'Chinnavit')\n",
    "(3,'Neha'),(4,'Huashun')\n",
    "(5,'Mohammad'),(10,'Peter')\n",
    "(11,'Paras'),(12, 'Tooba')\n",
    "(3, 'David'),(18,'Cheng')\n",
    "(9,'Haqqani')"
   ]
  },
  {
   "cell_type": "markdown",
   "metadata": {},
   "source": [
    "### Default Partitioning in Spark RDD <a class=\"anchor\" id=\"default\"></a>"
   ]
  },
  {
   "cell_type": "code",
   "execution_count": 6,
   "metadata": {},
   "outputs": [
    {
     "data": {
      "text/plain": [
       "[(1, 'Aaditya'),\n",
       " (2, 'Chinnavit'),\n",
       " (3, 'Neha'),\n",
       " (4, 'Huashun'),\n",
       " (5, 'Mohammad'),\n",
       " (10, 'Peter'),\n",
       " (11, 'Paras'),\n",
       " (12, 'Tooba'),\n",
       " (3, 'David'),\n",
       " (18, 'Cheng'),\n",
       " (9, 'Haqqani')]"
      ]
     },
     "execution_count": 6,
     "metadata": {},
     "output_type": "execute_result"
    }
   ],
   "source": [
    "# random equal partition\n",
    "rdd = sc.parallelize(list_tutors, no_of_partitions)\n",
    "rdd.collect()"
   ]
  },
  {
   "cell_type": "code",
   "execution_count": 6,
   "metadata": {},
   "outputs": [
    {
     "name": "stdout",
     "output_type": "stream",
     "text": [
      "Number of partitions:4\n",
      "Partitioner:None\n",
      "####### NUMBER OF PARTITIONS: 4\n",
      "Partition 0: 2 records\n",
      "[(1, 'Aaditya'), (2, 'Chinnavit')]\n",
      "Partition 1: 4 records\n",
      "[(3, 'Neha'), (4, 'Huashun'), (5, 'Mohammad'), (10, 'Peter')]\n",
      "Partition 2: 2 records\n",
      "[(11, 'Paras'), (12, 'Tooba')]\n",
      "Partition 3: 3 records\n",
      "[(3, 'David'), (18, 'Cheng'), (9, 'Haqqani')]\n"
     ]
    }
   ],
   "source": [
    "print(\"Number of partitions:{}\".format(rdd.getNumPartitions()))\n",
    "print(\"Partitioner:{}\".format(rdd.partitioner))\n",
    "print_partitions(rdd)  "
   ]
  },
  {
   "cell_type": "markdown",
   "metadata": {},
   "source": [
    "<div style=\"background:rgba(0,109,174,0.2);padding:10px;border-radius:4px\"><strong style=\"color:#006DAE\">TODO: </strong>How do you think the data is divided across the partitions by default when no partitoner is specified?</div>"
   ]
  },
  {
   "cell_type": "markdown",
   "metadata": {},
   "source": [
    "### Hash Partitioning in RDD <a class=\"anchor\" id=\"hash\"></a>\n",
    "Hash partitioning uses the formula <code>partition = hash_function() % numPartitions</code> to determine which partition data item falls into."
   ]
  },
  {
   "cell_type": "code",
   "execution_count": 7,
   "metadata": {},
   "outputs": [],
   "source": [
    "#Hash Function to implement Hash Partitioning \n",
    "#Just computes the sum of digits\n",
    "#Example : hash_function(12) produces 3 i.e. 2 + 1\n",
    "def hash_function(key):\n",
    "    total = 0\n",
    "    for digit in str(key):\n",
    "        total += int(digit)\n",
    "    return total"
   ]
  },
  {
   "cell_type": "code",
   "execution_count": 8,
   "metadata": {},
   "outputs": [
    {
     "name": "stdout",
     "output_type": "stream",
     "text": [
      "####### NUMBER OF PARTITIONS: 4\n",
      "Partition 0: 1 records\n",
      "[(4, 'Huashun')]\n",
      "Partition 1: 5 records\n",
      "[(1, 'Aaditya'), (5, 'Mohammad'), (10, 'Peter'), (18, 'Cheng'), (9, 'Haqqani')]\n",
      "Partition 2: 2 records\n",
      "[(2, 'Chinnavit'), (11, 'Paras')]\n",
      "Partition 3: 3 records\n",
      "[(3, 'Neha'), (12, 'Tooba'), (3, 'David')]\n"
     ]
    }
   ],
   "source": [
    "# hash partitioning\n",
    "hash_partitioned_rdd = rdd.partitionBy(no_of_partitions, hash_function)\n",
    "print_partitions(hash_partitioned_rdd)            "
   ]
  },
  {
   "cell_type": "markdown",
   "metadata": {},
   "source": [
    "<div style=\"background:rgba(0,109,174,0.2);padding:10px;border-radius:4px\"><strong style=\"color:#006DAE\">Note: </strong>Look at how the data is partitioned. For example, Partition 0 has 1 record, [(4, 'Huashun')]. Here is the step-wise breakdown:\n",
    "    <ul>\n",
    "        <li>hash_function(4) = 4</li>\n",
    "        <li>Partition for the key of 4 is determined by <code>hash_function(4)%numPartitions</code> i.e. 4%4=0</li>\n",
    "        <li>Similarly, for (18,'Cheng'), partition is given by <code>hash+function(18)%numPartitions</code> i.e. 9%4=1</li>\n",
    "    </ul>\n",
    "\n",
    "</div>"
   ]
  },
  {
   "cell_type": "markdown",
   "metadata": {},
   "source": [
    "### Range Partitioning in RDD <a class=\"anchor\" id=\"range\"></a>\n",
    "This strategy uses a range to distribute the items to respective partitions when the keys fall within the range. "
   ]
  },
  {
   "cell_type": "code",
   "execution_count": 3,
   "metadata": {},
   "outputs": [],
   "source": [
    "no_of_partitions=4\n",
    "\n",
    "#Find the size of the elements in RDD\n",
    "chunk_size = len(list_tutors)/no_of_partitions\n",
    "#Define a range of values by key to distribute across partitions\n",
    "#Here for simplicity, we are defining the range i.e. keys from 1-4 to fall in first partition, 5-9 in second partition and so on\n",
    "range_arr=[[1,4],[5,9],[10,14],[15,19]]\n",
    "\n",
    "def range_function(key):\n",
    "    for index,item in enumerate(range_arr):\n",
    "        if key >=item[0] and key <=item[1]:\n",
    "            return index\n"
   ]
  },
  {
   "cell_type": "code",
   "execution_count": 10,
   "metadata": {},
   "outputs": [
    {
     "name": "stdout",
     "output_type": "stream",
     "text": [
      "####### NUMBER OF PARTITIONS: 4\n",
      "Partition 0: 5 records\n",
      "[(1, 'Aaditya'), (2, 'Chinnavit'), (3, 'Neha'), (4, 'Huashun'), (3, 'David')]\n",
      "Partition 1: 2 records\n",
      "[(5, 'Mohammad'), (9, 'Haqqani')]\n",
      "Partition 2: 3 records\n",
      "[(10, 'Peter'), (11, 'Paras'), (12, 'Tooba')]\n",
      "Partition 3: 1 records\n",
      "[(18, 'Cheng')]\n"
     ]
    }
   ],
   "source": [
    "# range partition\n",
    "range_partitioned_rdd = rdd.partitionBy(no_of_partitions, range_function)\n",
    "print_partitions(range_partitioned_rdd)"
   ]
  },
  {
   "cell_type": "markdown",
   "metadata": {},
   "source": [
    "## Parallel Search using RDDs  <a class=\"anchor\" id=\"parallel-search-rdd\"></a>\n",
    "\n",
    "Now we will implement basic search functionalities and visualise the parallelism embedded in Spark to perform these kind of queries.\n",
    "\n",
    "In this tutorial, you will use a csv dataset **bank.csv**. However, for this tutorial we won't analyse the case study but only perform some search queries with this data"
   ]
  },
  {
   "cell_type": "code",
   "execution_count": 11,
   "metadata": {},
   "outputs": [
    {
     "name": "stdout",
     "output_type": "stream",
     "text": [
      "Total partitions: 2\n",
      "Number of lines: 11163\n"
     ]
    },
    {
     "data": {
      "text/plain": [
       "['age,job,marital,education,default,balance,housing,loan,contact,day,month,duration,campaign,pdays,previous,poutcome,deposit',\n",
       " '59,admin.,married,secondary,no,2343,yes,no,unknown,5,may,1042,1,-1,0,unknown,yes',\n",
       " '56,admin.,married,secondary,no,45,no,no,unknown,5,may,1467,1,-1,0,unknown,yes',\n",
       " '41,technician,married,secondary,no,1270,yes,no,unknown,5,may,1389,1,-1,0,unknown,yes']"
      ]
     },
     "execution_count": 11,
     "metadata": {},
     "output_type": "execute_result"
    }
   ],
   "source": [
    "# Using Spark, we can read and load a csv file\n",
    "# Read csv file and load into an RDD object\n",
    "bank_rdd = sc.textFile('bank.csv')\n",
    "\n",
    "# If you want to specify the number of partitions, you can add the number as a second argument\n",
    "# bank_rdd = sc.textFile('bank.csv', 10)\n",
    "\n",
    "## Exploring the data file, we can see that it contains different types of information\n",
    "## Some useful information is printed below\n",
    "print(f\"Total partitions: {bank_rdd.getNumPartitions()}\")\n",
    "print(f\"Number of lines: {bank_rdd.count()}\")\n",
    "\n",
    "## Each element of the RDD is a line from the file\n",
    "bank_rdd.take(4)"
   ]
  },
  {
   "cell_type": "markdown",
   "metadata": {},
   "source": [
    "### Search in RDDs based on multiple conditions\n",
    "\n",
    "We will focus on only four attributes from the data: age, education, marital and balance for filtering conditions. However, we will display additional information as well."
   ]
  },
  {
   "cell_type": "code",
   "execution_count": 12,
   "metadata": {},
   "outputs": [
    {
     "name": "stdout",
     "output_type": "stream",
     "text": [
      "18\n"
     ]
    }
   ],
   "source": [
    "# 1. Split each line separated by comma into a list \n",
    "bank_rdd1 = bank_rdd.map(lambda line: line.split(','))\n",
    "# 2. Remove the header\n",
    "header = bank_rdd1.first()\n",
    "bank_rdd1 = bank_rdd1.filter(lambda row: row != header)   #filter out header\n",
    "\n",
    "# Indices for each attribute we will use\n",
    "# Filter: age, education, marital, balance = 0, 3, 2, 5\n",
    "# Display additional: day, month, deposit = 9, 10, 16\n",
    "\n",
    "# 3. Search the records with balance between 1000 and 2000\n",
    "bank_rdd1 = bank_rdd1.filter(lambda x: int(x[5])>1000 and int(x[5])<2000)\n",
    "# 4. Also search the records with primrary or secondary education and age less than 30\n",
    "bank_rdd1 = bank_rdd1.filter(lambda x: x[3] in ['primary','secondary'] and int(x[0])<30)\n",
    "# 5. Also filter with those who are married\n",
    "bank_rdd1 = bank_rdd1.filter(lambda x: x[2]=='married' )\n",
    "# 6. Display the previous attributes plus the information of day, month and deposit\n",
    "bank_rdd1 = bank_rdd1.map(lambda field: (field[0],field[2],field[3],field[5],\n",
    "                                         field[9],field[10],field[16]))\n",
    "# Print how many final records\n",
    "print(bank_rdd1.count())"
   ]
  },
  {
   "cell_type": "code",
   "execution_count": 13,
   "metadata": {},
   "outputs": [
    {
     "name": "stdout",
     "output_type": "stream",
     "text": [
      "Total partitions: 2\n",
      "------ Partition 0:\n",
      "('29', 'married', 'secondary', '1135', '17', 'feb', 'yes')\n",
      "('27', 'married', 'secondary', '1293', '8', 'apr', 'yes')\n",
      "('29', 'married', 'secondary', '1180', '17', 'apr', 'yes')\n",
      "('28', 'married', 'secondary', '1086', '20', 'apr', 'yes')\n",
      "('26', 'married', 'secondary', '1595', '15', 'jun', 'yes')\n",
      "('27', 'married', 'secondary', '1596', '1', 'sep', 'yes')\n",
      "('28', 'married', 'secondary', '1595', '9', 'sep', 'yes')\n",
      "('27', 'married', 'secondary', '1595', '29', 'dec', 'yes')\n",
      "------ Partition 1:\n",
      "('26', 'married', 'secondary', '1417', '6', 'jun', 'no')\n",
      "('23', 'married', 'secondary', '1309', '3', 'jun', 'no')\n",
      "('24', 'married', 'secondary', '1222', '20', 'apr', 'no')\n",
      "('28', 'married', 'secondary', '1238', '14', 'may', 'no')\n",
      "('26', 'married', 'secondary', '1595', '2', 'mar', 'no')\n",
      "('27', 'married', 'secondary', '1303', '21', 'may', 'no')\n",
      "('25', 'married', 'secondary', '1782', '19', 'jun', 'no')\n",
      "('28', 'married', 'secondary', '1137', '6', 'feb', 'no')\n",
      "('28', 'married', 'secondary', '1020', '28', 'may', 'no')\n",
      "('29', 'married', 'secondary', '1386', '28', 'may', 'no')\n"
     ]
    }
   ],
   "source": [
    "# Let's see how the data was divided and the data for each partition\n",
    "numPartitions = bank_rdd1.getNumPartitions()\n",
    "print(f\"Total partitions: {numPartitions}\")\n",
    "\n",
    "# glom(): Return an RDD created by coalescing all elements within each partition into a list\n",
    "partitions = bank_rdd1.glom().collect()\n",
    "for index,partition in enumerate(partitions):\n",
    "    print(f'------ Partition {index}:')\n",
    "    for record in partition:\n",
    "        print(record)"
   ]
  },
  {
   "cell_type": "markdown",
   "metadata": {},
   "source": [
    "<div style=\"background:rgba(0,109,174,0.2);padding:10px;border-radius:4px\"><strong style=\"color:#006DAE\">TODO: </strong>Verify the parallelism in the Spark UI and explore the content. How many jobs have been executed so far?</div>"
   ]
  },
  {
   "cell_type": "markdown",
   "metadata": {},
   "source": [
    "### Searching max/min value of an attribute in an RDD\n",
    "This task will aim to find the record in the dataset that contains the highest value for a given attribute. In this case the attribute chosen is \"balance\"."
   ]
  },
  {
   "cell_type": "code",
   "execution_count": 14,
   "metadata": {},
   "outputs": [
    {
     "data": {
      "text/plain": [
       "[['59',\n",
       "  'admin.',\n",
       "  'married',\n",
       "  'secondary',\n",
       "  'no',\n",
       "  '2343',\n",
       "  'yes',\n",
       "  'no',\n",
       "  'unknown',\n",
       "  '5',\n",
       "  'may',\n",
       "  '1042',\n",
       "  '1',\n",
       "  '-1',\n",
       "  '0',\n",
       "  'unknown',\n",
       "  'yes'],\n",
       " ['56',\n",
       "  'admin.',\n",
       "  'married',\n",
       "  'secondary',\n",
       "  'no',\n",
       "  '45',\n",
       "  'no',\n",
       "  'no',\n",
       "  'unknown',\n",
       "  '5',\n",
       "  'may',\n",
       "  '1467',\n",
       "  '1',\n",
       "  '-1',\n",
       "  '0',\n",
       "  'unknown',\n",
       "  'yes'],\n",
       " ['41',\n",
       "  'technician',\n",
       "  'married',\n",
       "  'secondary',\n",
       "  'no',\n",
       "  '1270',\n",
       "  'yes',\n",
       "  'no',\n",
       "  'unknown',\n",
       "  '5',\n",
       "  'may',\n",
       "  '1389',\n",
       "  '1',\n",
       "  '-1',\n",
       "  '0',\n",
       "  'unknown',\n",
       "  'yes']]"
      ]
     },
     "execution_count": 14,
     "metadata": {},
     "output_type": "execute_result"
    }
   ],
   "source": [
    "# Read csv but now with 4 partitions\n",
    "bank_rdd_4 = sc.textFile('bank.csv',4)\n",
    "\n",
    "# Split and remove the header\n",
    "bank_rdd_4 = bank_rdd_4.map(lambda line: line.split(','))\n",
    "header = bank_rdd_4.first()\n",
    "bank_rdd_4 = bank_rdd_4.filter(lambda row: row != header)   #filter out header\n",
    "\n",
    "# Display the first 3 records\n",
    "bank_rdd_4.take(3)"
   ]
  },
  {
   "cell_type": "code",
   "execution_count": 15,
   "metadata": {},
   "outputs": [
    {
     "name": "stdout",
     "output_type": "stream",
     "text": [
      "['58', 'self-employed', 'married', 'secondary', 'no', '9994', 'no', 'no', 'cellular', '10', 'jul', '400', '1', '-1', '0', 'unknown', 'no']\n"
     ]
    }
   ],
   "source": [
    "# Using the RDD function max(), it can be obtained in a single line \n",
    "result_max_balance = bank_rdd_4.max(key=lambda x: x[5]) # Get max by value in index 5 (balance)\n",
    "# Print the record obtain with highest balance\n",
    "print(result_max_balance)"
   ]
  },
  {
   "cell_type": "code",
   "execution_count": 16,
   "metadata": {},
   "outputs": [
    {
     "name": "stdout",
     "output_type": "stream",
     "text": [
      "[['29', 'management', 'married', 'tertiary', 'no', '10576', 'no', 'no', 'unknown', '15', 'may', '1224', '2', '-1', '0', 'unknown', 'yes']]\n"
     ]
    }
   ],
   "source": [
    "# Get record with balance 10576\n",
    "bank_record = bank_rdd_4.filter(lambda x: x[5]=='10576').collect()\n",
    "print(bank_record)"
   ]
  },
  {
   "cell_type": "markdown",
   "metadata": {},
   "source": [
    "<a class=\"anchor\" id=\"lab-task-1\"></a>\n",
    "<div style=\"background:rgba(0,109,174,0.2);padding:10px;border-radius:4px\"><strong style=\"color:#FF5555\">1. Lab Task: </strong>Compare the <code>result_max_balance</code> record with the record above <code>(bank_record)</code>. Was the record obtained previously correct i.e. <code>result_max_balance</code>? <b>Explain what happened.</b></div>\n"
   ]
  },
  {
   "cell_type": "code",
   "execution_count": 17,
   "metadata": {},
   "outputs": [],
   "source": [
    "result_max_balance = bank_rdd_4.max(key=lambda x: x[5])"
   ]
  },
  {
   "cell_type": "markdown",
   "metadata": {},
   "source": [
    "<a class=\"anchor\" id=\"lab-task-2\"></a>\n",
    "<div style=\"background:rgba(0,109,174,0.2);padding:10px;border-radius:4px\"><strong style=\"color:#FF5555\">2. Lab Task: </strong>As you noticed in the previous result, the record returned originally (result_max_balance) was incorrect.\n",
    "    <p><i>Fix the code below that uses the <code>max()</code> function to get the record with the correct maximum balance.</p></i></div>\n"
   ]
  },
  {
   "cell_type": "markdown",
   "metadata": {},
   "source": [
    "#### To learn more about functions in RDDs, you can look into the next 2 sites:\n",
    "1. http://spark.apache.org/docs/latest/rdd-programming-guide.html#rdd-operations\n",
    "1. https://s3.amazonaws.com/assets.datacamp.com/blog_assets/PySpark_Cheat_Sheet_Python.pdf"
   ]
  },
  {
   "cell_type": "markdown",
   "metadata": {},
   "source": [
    "## DataFrames in Spark <a class=\"anchor\" id=\"dataframes\"></a>\n",
    "A DataFrame is a distributed collection of data organized into named columns. It is equivalent to a table in relational database or a dataframe in R/Python but with richer optimizations under the hood. For more information visit : \n",
    "\n",
    "https://docs.databricks.com/spark/latest/dataframes-datasets/introduction-to-dataframes-python.html\n",
    "\n",
    "### Creating DataFrames\n",
    "SparkSession provides an easy method <code>createDataFrame</code> to create Spark DataFrames. Data can be loaded from csv, json, xml and other sources like local file system or HDFS. More information on : \n",
    "https://spark.apache.org/docs/latest/api/python/pyspark.sql.html\n",
    "\n",
    "To display the schema, i.e. the  structure of the DataFrame, you can use <strong>printSchema()</strong> method."
   ]
  },
  {
   "cell_type": "code",
   "execution_count": 18,
   "metadata": {},
   "outputs": [
    {
     "name": "stdout",
     "output_type": "stream",
     "text": [
      "+---+---------+-------+\n",
      "| Id|     Name|Initial|\n",
      "+---+---------+-------+\n",
      "|  1|  Aaditya|      A|\n",
      "|  2|Chinnavit|      C|\n",
      "|  3|     Neha|      N|\n",
      "|  4|  Huashun|      H|\n",
      "|  5| Mohammad|      M|\n",
      "+---+---------+-------+\n",
      "only showing top 5 rows\n",
      "\n",
      "root\n",
      " |-- Id: long (nullable = true)\n",
      " |-- Name: string (nullable = true)\n",
      " |-- Initial: string (nullable = true)\n",
      "\n"
     ]
    }
   ],
   "source": [
    "df = spark.createDataFrame([(1,'Aaditya','A'),(2,'Chinnavit','C'),(3,'Neha','N'),(4,'Huashun','H'),(5,'Mohammad','M'),\n",
    "                            (10,'Prajwol', 'P'),(1,'Paras','P'),(1, 'Tooba','T'),(3, 'David','D'),(4,'Cheng','C'),(9,'Haqqani','H')],\n",
    "                           ['Id','Name','Initial'])\n",
    "\n",
    "#display the rows of the dataframe\n",
    "df.show(5)\n",
    "#view the schema\n",
    "df.printSchema()"
   ]
  },
  {
   "cell_type": "markdown",
   "metadata": {},
   "source": [
    "Another way to create a DataFrame is use the <strong>spark.read.csv</strong> file to load the data from csv to a DataFrame"
   ]
  },
  {
   "cell_type": "code",
   "execution_count": 19,
   "metadata": {},
   "outputs": [],
   "source": [
    "df = spark.read.csv(\"bank.csv\",header=True)"
   ]
  },
  {
   "cell_type": "markdown",
   "metadata": {},
   "source": [
    "<div style=\"background:rgba(0,109,174,0.2);padding:10px;border-radius:4px\"><strong style=\"color:#006DAE\">TODO: </strong>Display first 10 rows of the above dataframe. \n",
    "Try out other dataframe methods:    \n",
    "    <ul>\n",
    "        <li><code>df.columns, df.count()</code></li>\n",
    "        <li><code>df.describe('column_name').show()</code></li>\n",
    "        <li><strong>Selecting:</strong><code>df.select('column_name').show(), df.select('column_name').distinct().show()</code>\n",
    "        </li>\n",
    "        <li><strong>Filtering:</strong><code>df.filter(df.column_name == 123).show()</code></li>\n",
    "</div>"
   ]
  },
  {
   "cell_type": "markdown",
   "metadata": {},
   "source": [
    "### Partitioning in DataFrames <a class=\"anchor\" id=\"df-partitioning\"></a>"
   ]
  },
  {
   "cell_type": "code",
   "execution_count": 20,
   "metadata": {},
   "outputs": [],
   "source": [
    "df = spark.createDataFrame([(1,'Aaditya','A'),(2,'Chinnavit','C'),(3,'Neha','N'),(4,'Huashun','H'),(5,'Mohammad','M'),\n",
    "                            (10,'Prajwol', 'P'),(1,'Paras','P'),(1, 'Tooba','T'),(3, 'David','D'),(4,'Cheng','C'),(9,'Haqqani','H')],\n",
    "                           ['Id','Name','Initial'])"
   ]
  },
  {
   "cell_type": "code",
   "execution_count": 21,
   "metadata": {},
   "outputs": [],
   "source": [
    "# Round-robin data partitioning\n",
    "df_round = df.repartition(2)\n",
    "# Range data partitioning\n",
    "df_range = df.repartitionByRange(2, \"Initial\")\n",
    "# Hash data partitioning\n",
    "column_hash = \"Id\"\n",
    "df_hash = df.repartition(column_hash)"
   ]
  },
  {
   "cell_type": "code",
   "execution_count": 22,
   "metadata": {},
   "outputs": [
    {
     "name": "stdout",
     "output_type": "stream",
     "text": [
      "####### NUMBER OF PARTITIONS: 2\n",
      "Partition 0: 6 records\n",
      "[Row(Id=2, Name='Chinnavit', Initial='C'), Row(Id=3, Name='Neha', Initial='N'), Row(Id=5, Name='Mohammad', Initial='M'), Row(Id=10, Name='Prajwol', Initial='P'), Row(Id=9, Name='Haqqani', Initial='H'), Row(Id=4, Name='Cheng', Initial='C')]\n",
      "Partition 1: 5 records\n",
      "[Row(Id=1, Name='Aaditya', Initial='A'), Row(Id=4, Name='Huashun', Initial='H'), Row(Id=1, Name='Tooba', Initial='T'), Row(Id=1, Name='Paras', Initial='P'), Row(Id=3, Name='David', Initial='D')]\n"
     ]
    }
   ],
   "source": [
    "print_partitions(df_round)"
   ]
  },
  {
   "cell_type": "code",
   "execution_count": 23,
   "metadata": {},
   "outputs": [
    {
     "name": "stdout",
     "output_type": "stream",
     "text": [
      "####### NUMBER OF PARTITIONS: 2\n",
      "Partition 0: 6 records\n",
      "[Row(Id=1, Name='Aaditya', Initial='A'), Row(Id=2, Name='Chinnavit', Initial='C'), Row(Id=4, Name='Huashun', Initial='H'), Row(Id=3, Name='David', Initial='D'), Row(Id=4, Name='Cheng', Initial='C'), Row(Id=9, Name='Haqqani', Initial='H')]\n",
      "Partition 1: 5 records\n",
      "[Row(Id=3, Name='Neha', Initial='N'), Row(Id=5, Name='Mohammad', Initial='M'), Row(Id=10, Name='Prajwol', Initial='P'), Row(Id=1, Name='Paras', Initial='P'), Row(Id=1, Name='Tooba', Initial='T')]\n"
     ]
    }
   ],
   "source": [
    "print_partitions(df_range)"
   ]
  },
  {
   "cell_type": "code",
   "execution_count": 24,
   "metadata": {},
   "outputs": [
    {
     "name": "stdout",
     "output_type": "stream",
     "text": [
      "####### NUMBER OF PARTITIONS: 200\n",
      "Partition 49: 1 records\n",
      "[Row(Id=9, Name='Haqqani', Initial='H')]\n",
      "Partition 68: 1 records\n",
      "[Row(Id=5, Name='Mohammad', Initial='M')]\n",
      "Partition 69: 3 records\n",
      "[Row(Id=1, Name='Aaditya', Initial='A'), Row(Id=1, Name='Paras', Initial='P'), Row(Id=1, Name='Tooba', Initial='T')]\n",
      "Partition 77: 1 records\n",
      "[Row(Id=10, Name='Prajwol', Initial='P')]\n",
      "Partition 107: 2 records\n",
      "[Row(Id=3, Name='Neha', Initial='N'), Row(Id=3, Name='David', Initial='D')]\n",
      "Partition 128: 1 records\n",
      "[Row(Id=2, Name='Chinnavit', Initial='C')]\n",
      "Partition 140: 2 records\n",
      "[Row(Id=4, Name='Huashun', Initial='H'), Row(Id=4, Name='Cheng', Initial='C')]\n"
     ]
    }
   ],
   "source": [
    "print_partitions(df_hash)"
   ]
  },
  {
   "cell_type": "code",
   "execution_count": 25,
   "metadata": {},
   "outputs": [],
   "source": [
    "# Read csv file and load into a dataframe\n",
    "df = spark.read.csv(\"bank.csv\",header=True)"
   ]
  },
  {
   "cell_type": "markdown",
   "metadata": {},
   "source": [
    "<div style=\"background:rgba(0,109,174,0.2);padding:10px;border-radius:4px\"><strong style=\"color:#006DAE\">TODO: </strong> How many partitions the dataframe have?</div>"
   ]
  },
  {
   "cell_type": "markdown",
   "metadata": {},
   "source": [
    "<a class=\"anchor\" id=\"lab-task-3\"></a>\n",
    "<div style=\"background:rgba(0,109,174,0.2);padding:10px;border-radius:4px\"><strong style=\"color:##FF5555\">3. Lab Task: </strong> Implement Range and Hash Partitioning techniques for the new dataset and display the partitions. COMPLETE THE CODE BELOW.</div>"
   ]
  },
  {
   "cell_type": "code",
   "execution_count": 26,
   "metadata": {},
   "outputs": [],
   "source": [
    "## We can specify how many partitions or what kind of partitioning we want for a dataframe\n",
    "# Round-robin data partitioning\n",
    "df_round = df.repartition(5)\n",
    "# Range data partitioning\n",
    "df_range = df.repartitionByRange(5,\"balance\")\n",
    "# Hash data partitioning\n",
    "column_hash = \"education\"\n",
    "df_hash = df.repartition(column_hash) "
   ]
  },
  {
   "cell_type": "code",
   "execution_count": 27,
   "metadata": {},
   "outputs": [
    {
     "name": "stdout",
     "output_type": "stream",
     "text": [
      "----- NUMBER OF PARTITIONS df_round: 5\n",
      "----- NUMBER OF PARTITIONS df_range: 5\n",
      "----- NUMBER OF PARTITIONS df_hash: 200\n"
     ]
    }
   ],
   "source": [
    "## Print the number of partitions for each dataframe\n",
    "print(f\"----- NUMBER OF PARTITIONS df_round: {df_round.rdd.getNumPartitions()}\")\n",
    "print(f\"----- NUMBER OF PARTITIONS df_range: {df_range.rdd.getNumPartitions()}\")\n",
    "print(f\"----- NUMBER OF PARTITIONS df_hash: {df_hash.rdd.getNumPartitions()}\")\n",
    "\n",
    "## Verifying the number of partitions for the dataframe with hash partitioning it would indicate 200.\n",
    "## One important thing is that by default, when the number of partitions are not indicated,\n",
    "## The default number of partitions is 200\n",
    "\n",
    "## However, most of the partitions for df_hash are empty.\n",
    "## We can verify by using the following function\n",
    "\n",
    "## df is the dataframe to show its information\n",
    "def print_partitions(df):\n",
    "    numPartitions = df.rdd.getNumPartitions()\n",
    "    print(f\"####### NUMBER OF PARTITIONS: {numPartitions}\")\n",
    "    partitions = df.rdd.glom().collect()\n",
    "    for index,partition in enumerate(partitions):\n",
    "        # show partition if it is not empty\n",
    "        if len(partition)>0:\n",
    "            print(f\"Partition {index}: {len(partition)} records\")\n",
    "            # TODO: You can complete the code to show the values or some values for each partition\n",
    "            "
   ]
  },
  {
   "cell_type": "markdown",
   "metadata": {},
   "source": [
    "<div style=\"background:rgba(0,109,174,0.2);padding:10px;border-radius:4px\"><strong style=\"color:#006DAE\">TODO: </strong> Complete the above code to show the values for each partition</div>"
   ]
  },
  {
   "cell_type": "code",
   "execution_count": 28,
   "metadata": {},
   "outputs": [
    {
     "name": "stdout",
     "output_type": "stream",
     "text": [
      "== Physical Plan ==\n",
      "Exchange RoundRobinPartitioning(5), false, [id=#83]\n",
      "+- FileScan csv [age#91,job#92,marital#93,education#94,default#95,balance#96,housing#97,loan#98,contact#99,day#100,month#101,duration#102,campaign#103,pdays#104,previous#105,poutcome#106,deposit#107] Batched: false, DataFilters: [], Format: CSV, Location: InMemoryFileIndex[file:/home/student/5202/session2/bank.csv], PartitionFilters: [], PushedFilters: [], ReadSchema: struct<age:string,job:string,marital:string,education:string,default:string,balance:string,housin...\n",
      "\n",
      "\n",
      "== Physical Plan ==\n",
      "Exchange rangepartitioning(balance#96 ASC NULLS FIRST, 5), false, [id=#90]\n",
      "+- FileScan csv [age#91,job#92,marital#93,education#94,default#95,balance#96,housing#97,loan#98,contact#99,day#100,month#101,duration#102,campaign#103,pdays#104,previous#105,poutcome#106,deposit#107] Batched: false, DataFilters: [], Format: CSV, Location: InMemoryFileIndex[file:/home/student/5202/session2/bank.csv], PartitionFilters: [], PushedFilters: [], ReadSchema: struct<age:string,job:string,marital:string,education:string,default:string,balance:string,housin...\n",
      "\n",
      "\n",
      "== Physical Plan ==\n",
      "Exchange hashpartitioning(education#94, 200), false, [id=#97]\n",
      "+- FileScan csv [age#91,job#92,marital#93,education#94,default#95,balance#96,housing#97,loan#98,contact#99,day#100,month#101,duration#102,campaign#103,pdays#104,previous#105,poutcome#106,deposit#107] Batched: false, DataFilters: [], Format: CSV, Location: InMemoryFileIndex[file:/home/student/5202/session2/bank.csv], PartitionFilters: [], PushedFilters: [], ReadSchema: struct<age:string,job:string,marital:string,education:string,default:string,balance:string,housin...\n",
      "\n",
      "\n"
     ]
    }
   ],
   "source": [
    "## You can verify the partitioning and the query plan when an action is performed with the function explain()\n",
    "# Query plan for df_round\n",
    "df_round.explain()\n",
    "# Query plan for df_range\n",
    "df_range.explain()\n",
    "# Query plan for df_hash\n",
    "df_hash.explain()"
   ]
  },
  {
   "cell_type": "markdown",
   "metadata": {},
   "source": [
    "### Parallel Search using Spark Dataframe <a class=\"anchor\" id=\"parallel_search_df\"></a>\n",
    "\n",
    "We will perform the same filtering criteria as in section 1. This time the logic won't be implemented by us but just declare by using the functions of the Spark Dataframe API to perform the same queries. Thus, we should obtain the same results as before.\n",
    "\n",
    "Furthermore, now you will need to see in the Spark UI, the RDD DAG Visualisation and the Execution Plan of the queries performed with the function explain() as we did previously."
   ]
  },
  {
   "cell_type": "markdown",
   "metadata": {},
   "source": [
    "<a class=\"anchor\" id=\"lab-task-4\"></a>\n",
    "<div style=\"background:rgba(0,109,174,0.2);padding:10px;border-radius:4px\"><strong style=\"color:##FF5555\">4. Lab Task: </strong> Complete the code in the given cell below to implement the given conditions.</div>"
   ]
  },
  {
   "cell_type": "code",
   "execution_count": 29,
   "metadata": {},
   "outputs": [
    {
     "ename": "SyntaxError",
     "evalue": "invalid syntax (<ipython-input-29-e12408b9fd18>, line 14)",
     "output_type": "error",
     "traceback": [
      "\u001b[0;36m  File \u001b[0;32m\"<ipython-input-29-e12408b9fd18>\"\u001b[0;36m, line \u001b[0;32m14\u001b[0m\n\u001b[0;31m    bank_df =\u001b[0m\n\u001b[0m             ^\u001b[0m\n\u001b[0;31mSyntaxError\u001b[0m\u001b[0;31m:\u001b[0m invalid syntax\n"
     ]
    }
   ],
   "source": [
    "# Using the Spark Dataframe API we can obtain the dataframe for a csv file\n",
    "# We already created dataframes with different types of partitioning\n",
    "# Choose one of them to work with and perform the queries made in section 1\n",
    "from pyspark.sql.functions import col\n",
    "\n",
    "bank_df = df_round\n",
    "\n",
    "## The functions to filter in dataframes are similar to the functions in RDD. Thus, the steps are:\n",
    "# 1. Search the records with balance between 1000 and 2000\n",
    "bank_df = bank_df.filter(col(\"balance\")>1000)\\\n",
    "            .filter(col(\"balance\")<2000)\n",
    "# TODO: \n",
    "# 2. Also in the same dataframe, search the records with primary or secondary education and age less than 30\n",
    "bank_df =\n",
    "\n",
    "# TODO:\n",
    "# 3. Also filter with those who are married\n",
    "bank_df = \n",
    "\n",
    "\n",
    "# TODO:\n",
    "# 4. Display the previous attributes plus the information of day, month and deposit\n",
    "bank_df = \n",
    "\n",
    "\n",
    "# 5. Display the records\n",
    "bank_df.show()"
   ]
  },
  {
   "cell_type": "code",
   "execution_count": null,
   "metadata": {},
   "outputs": [],
   "source": [
    "#### Query and partition information\n",
    "print_partitions(bank_df)\n",
    "#### Execution Plan for query with multiple filter conditions\n",
    "bank_df.explain()"
   ]
  },
  {
   "cell_type": "markdown",
   "metadata": {},
   "source": [
    "<div style=\"background:rgba(0,109,174,0.2);padding:10px;border-radius:4px\"><strong style=\"color:#006DAE\">TODO: </strong> Repeat the same query with different partitioning strategies <strong>(Round-Robin, Range and Hash)</strong> and compare its query execution plan plus its information in the <strong>Spark UI.</strong> </div>"
   ]
  },
  {
   "cell_type": "markdown",
   "metadata": {},
   "source": [
    "<div style=\"background:rgba(0,109,174,0.2);padding:10px;border-radius:4px\"><strong style=\"color:##333333\">EXAMPLE: </strong>Obtain also the <code>max/min</code> as you did in RDDs but now using <strong>Spark DataFrame</strong>. Does it return the same value as in section 1? Also, check its execution plan and the information in Spark UI.</div>"
   ]
  },
  {
   "cell_type": "code",
   "execution_count": null,
   "metadata": {},
   "outputs": [],
   "source": [
    "#### SOLUTION:\n",
    "bank_max_balance = df_round.selectExpr(\"int(balance)\").selectExpr(\"max(balance)\").collect()\n",
    "print(bank_max_balance)"
   ]
  },
  {
   "cell_type": "markdown",
   "metadata": {},
   "source": [
    "### Parallel Search using SQL language in Spark  <a class=\"anchor\" id=\"parallel_search_sparksql\"></a>\n",
    "#### Spark SQL\n",
    "Spark SQL is a Spark module for structured data processing. It provides a programming abstraction called DataFrames and can also act as a distributed SQL query engine. It enables unmodified Hadoop Hive queries to run up to 100x faster on existing deployments and data. It also provides powerful integration with the rest of the Spark ecosystem (e.g., integrating SQL query processing with machine learning). <a href=\"https://databricks.com/glossary/what-is-spark-sql#:~:text=Spark%20SQL%20is%20a%20Spark,on%20existing%20deployments%20and%20data\">[Read More]</a>.\n",
    "\n",
    "A view can be created from a dataframe in order to use SQL queries to search data. In this section, you will use SQL statements to perform search queries in the views that will be registered from the dataframes we created in the previous section."
   ]
  },
  {
   "cell_type": "code",
   "execution_count": null,
   "metadata": {},
   "outputs": [],
   "source": [
    "# register the original DataFrame as a temp view so that we can query it using SQL\n",
    "df.createOrReplaceTempView(\"df_sql\")\n",
    "filter_sql = spark.sql('''\n",
    "  SELECT age,education,balance,day,month,deposit\n",
    "  FROM df_sql\n",
    "  WHERE balance between 1000 and 2000\n",
    "  AND education in ('secondary','primary')\n",
    "  AND age < 30\n",
    "  AND marital = 'married'\n",
    "''')\n",
    "# filter_sql.explain()\n",
    "filter_sql.collect()"
   ]
  },
  {
   "cell_type": "markdown",
   "metadata": {},
   "source": [
    "<a class=\"anchor\" id=\"lab-task-6\"></a>\n",
    "<div style=\"background:rgba(0,109,174,0.2);padding:10px;border-radius:4px\"><strong style=\"color:#333333\">EXAMPLE: </strong>Obtain also the <code>max/min</code> as you did in RDDs and DataFrames, but now using <strong>Spark SQL</strong>. Does it return the same value as in previous cases? Also, check its execution plan and the information in Spark UI.</div>"
   ]
  },
  {
   "cell_type": "code",
   "execution_count": null,
   "metadata": {},
   "outputs": [],
   "source": [
    "#### SOLUTION:\n",
    "max_sql = spark.sql('''\n",
    "  SELECT MAX(CAST(balance AS INT)) as max_balance\n",
    "  FROM df_sql\n",
    "''')\n",
    "# Check the result obtained\n",
    "max_sql.collect()"
   ]
  },
  {
   "cell_type": "markdown",
   "metadata": {
    "colab_type": "text",
    "id": "Wq4Vj16RFIgk"
   },
   "source": [
    "**Congratulations on finishing this activity!**\n",
    "\n",
    "Having practiced today's activities, we're now ready to embark on a trip of the rest of exiciting FIT5202 activities! See you next week!"
   ]
  }
 ],
 "metadata": {
  "colab": {
   "collapsed_sections": [
    "yVWYWwzMFIfR",
    "K2QtBnKgFIfa",
    "kL88Q46yFIfh",
    "48_7UVktFIgD",
    "dtN67ydpFIgF",
    "cSs0qd02FIgI"
   ],
   "name": "FIT5202 - Getting started with Apache Spark.ipynb",
   "provenance": [],
   "version": "0.3.2"
  },
  "kernelspec": {
   "display_name": "Python 3",
   "language": "python",
   "name": "python3"
  },
  "language_info": {
   "codemirror_mode": {
    "name": "ipython",
    "version": 3
   },
   "file_extension": ".py",
   "mimetype": "text/x-python",
   "name": "python",
   "nbconvert_exporter": "python",
   "pygments_lexer": "ipython3",
   "version": "3.8.2"
  }
 },
 "nbformat": 4,
 "nbformat_minor": 1
}

{
 "cells": [
  {
   "cell_type": "code",
   "execution_count": 2,
   "metadata": {},
   "outputs": [],
   "source": [
    "# Import SparkConf class into program\n",
    "from pyspark import SparkConf\n",
    "from pyspark.sql.types import *\n",
    "import pyspark.sql.functions as F\n",
    "import matplotlib.pylab as plt\n",
    "\n",
    "# local[*]: run Spark in local mode with as many working processors as logical cores on your machine\n",
    "# If we want Spark to run locally with 'k' worker threads, we can specify as \"local[k]\".\n",
    "master = \"local[*]\"\n",
    "# The `appName` field is a name to be shown on the Spark cluster UI page\n",
    "app_name = \"A2 xxxx\"\n",
    "# Setup configuration parameters for Spark\n",
    "spark_conf = SparkConf().setMaster(master)\\\n",
    "        .setAppName(app_name)\\\n",
    "        .set('spark.sql.session.timeZone', 'UTC')\n",
    "\n",
    "# Import SparkContext and SparkSession classes\n",
    "from pyspark import SparkContext # Spark\n",
    "from pyspark.sql import SparkSession # Spark SQL\n",
    "from pyspark.sql import Row\n",
    "from datetime import datetime\n",
    "\n",
    "\n",
    "spark = SparkSession.builder.config(conf=spark_conf)\\\n",
    "        .getOrCreate()\n",
    "sc = spark.sparkContext\n",
    "sc.setLogLevel('ERROR')"
   ]
  },
  {
   "cell_type": "code",
   "execution_count": 5,
   "metadata": {},
   "outputs": [],
   "source": [
    "count_schema = StructType()\\\n",
    "                .add(\"ID\", IntegerType())\\\n",
    "                .add(\"Date_Time\", TimestampType())\\\n",
    "                .add(\"Year\", IntegerType())\\\n",
    "                .add(\"Month\", StringType())\\\n",
    "                .add(\"MDate\", IntegerType())\\\n",
    "                .add(\"Day\", StringType())\\\n",
    "                .add(\"Time\", IntegerType())\\\n",
    "                .add(\"Sensor_ID\", IntegerType())\\\n",
    "                .add(\"Sensor_Name\", StringType())\\\n",
    "                .add(\"Hourly_Counts\", IntegerType())"
   ]
  },
  {
   "cell_type": "code",
   "execution_count": 7,
   "metadata": {},
   "outputs": [],
   "source": [
    "sensor_schema = StructType()\\\n",
    "                .add(\"sensor_id\", IntegerType())\\\n",
    "                .add(\"sensor_description\", StringType())\\\n",
    "                .add(\"sensor_name\", StringType())\\\n",
    "                .add(\"installation_date\", DateType())\\\n",
    "                .add(\"status\", StringType())\\\n",
    "                .add(\"note\", StringType())\\\n",
    "                .add(\"direction_1\", StringType())\\\n",
    "                .add(\"direction_2\", StringType())\\\n",
    "                .add(\"latitude\", FloatType())\\\n",
    "                .add(\"longitude\", FloatType())\\\n",
    "                .add(\"location\", StringType())"
   ]
  },
  {
   "cell_type": "code",
   "execution_count": 9,
   "metadata": {},
   "outputs": [],
   "source": [
    "count_df = spark.read.csv('Pedestrian_Counting_System_-_Monthly__counts_per_hour.csv',\n",
    "                          header=True,\n",
    "                          schema=count_schema,\n",
    "                          timestampFormat = 'MM/dd/yyyy hh:mm:ss a')\n",
    "sensor_df = spark.read.csv('Pedestrian_Counting_System_-_Sensor_Locations.csv', \n",
    "                           header=True, \n",
    "                           schema=sensor_schema,\n",
    "                           dateFormat='yyyy/MM/dd')"
   ]
  },
  {
   "cell_type": "code",
   "execution_count": 11,
   "metadata": {},
   "outputs": [
    {
     "name": "stdout",
     "output_type": "stream",
     "text": [
      "+-------+-------------------+----+--------+-----+------+----+---------+--------------------+-------------+\n",
      "|     ID|          Date_Time|Year|   Month|MDate|   Day|Time|Sensor_ID|         Sensor_Name|Hourly_Counts|\n",
      "+-------+-------------------+----+--------+-----+------+----+---------+--------------------+-------------+\n",
      "|2887628|2019-11-01 17:00:00|2019|November|    1|Friday|  17|       34|Flinders St-Spark La|          300|\n",
      "|2887629|2019-11-01 17:00:00|2019|November|    1|Friday|  17|       39|        Alfred Place|          604|\n",
      "|2887630|2019-11-01 17:00:00|2019|November|    1|Friday|  17|       37|     Lygon St (East)|          216|\n",
      "|2887631|2019-11-01 17:00:00|2019|November|    1|Friday|  17|       40|Lonsdale St-Sprin...|          627|\n",
      "|2887632|2019-11-01 17:00:00|2019|November|    1|Friday|  17|       36|     Queen St (West)|          774|\n",
      "|2887633|2019-11-01 17:00:00|2019|November|    1|Friday|  17|       29|St Kilda Rd-Alexa...|          644|\n",
      "|2887634|2019-11-01 17:00:00|2019|November|    1|Friday|  17|       42|Grattan St-Swanst...|          453|\n",
      "|2887635|2019-11-01 17:00:00|2019|November|    1|Friday|  17|       43|Monash Rd-Swansto...|          387|\n",
      "|2887636|2019-11-01 17:00:00|2019|November|    1|Friday|  17|       44|Tin Alley-Swansto...|           27|\n",
      "|2887637|2019-11-01 17:00:00|2019|November|    1|Friday|  17|       35|           Southbank|         2691|\n",
      "+-------+-------------------+----+--------+-----+------+----+---------+--------------------+-------------+\n",
      "only showing top 10 rows\n",
      "\n"
     ]
    }
   ],
   "source": [
    "count_df.show(10)"
   ]
  },
  {
   "cell_type": "code",
   "execution_count": 12,
   "metadata": {},
   "outputs": [
    {
     "name": "stdout",
     "output_type": "stream",
     "text": [
      "+---------+--------------------+-----------+-----------------+------+----+-----------+-----------+----------+---------+--------------------+\n",
      "|sensor_id|  sensor_description|sensor_name|installation_date|status|note|direction_1|direction_2|  latitude|longitude|            location|\n",
      "+---------+--------------------+-----------+-----------------+------+----+-----------+-----------+----------+---------+--------------------+\n",
      "|       59|    Building 80 RMIT|     RMIT_T|       2019-02-13|     A|null|      North|      South|-37.808258|144.96304|(-37.80825648, 14...|\n",
      "|       20|Chinatown-Lt Bour...|   LtB170_T|       2013-09-06|     A|null|       East|       West| -37.81173|144.96825|(-37.81172913, 14...|\n",
      "|       34|Flinders St-Spark La|    Fli32_T|       2014-06-08|     A|null|       East|       West| -37.81538|144.97415|(-37.81537985, 14...|\n",
      "|       57|    Bourke St Bridge|   BouBri_T|       2018-08-13|     A|null|       West|       East|-37.817673|144.95026|(-37.8176735, 144...|\n",
      "|       40|Lonsdale St-Sprin...|   Spr201_T|       2015-01-19|     A|null|      South|      North|-37.809994|144.97227|(-37.80999341, 14...|\n",
      "|       31|     Lygon St (West)|   Lyg161_T|       2013-10-10|     A|null|      South|      North|-37.801697|144.96658|(-37.8016968, 144...|\n",
      "|       19|Chinatown-Swansto...|   LtB210_T|       2013-09-02|     A|null|       East|       West| -37.81237| 144.9655|(-37.81237202, 14...|\n",
      "|       37|     Lygon St (East)|   Lyg260_T|       2015-02-11|     A|null|      North|      South|-37.803104|144.96672|(-37.80310271, 14...|\n",
      "|       36|     Queen St (West)|    Que85_T|       2015-01-20|     A|null|      South|      North|-37.816525|144.96121|(-37.81652527, 14...|\n",
      "|       58|Bourke St - Spenc...|   Bou688_T|       2018-09-27|     A|null|       West|       East| -37.81686|144.95358|(-37.81686074, 14...|\n",
      "+---------+--------------------+-----------+-----------------+------+----+-----------+-----------+----------+---------+--------------------+\n",
      "only showing top 10 rows\n",
      "\n"
     ]
    }
   ],
   "source": [
    "sensor_df.show(10)"
   ]
  },
  {
   "cell_type": "code",
   "execution_count": 18,
   "metadata": {},
   "outputs": [],
   "source": [
    "count_df = count_df.withColumn('above_threshold', \\\n",
    "                      F.when(count_df.Hourly_Counts >= 2000, 1).otherwise(0))"
   ]
  },
  {
   "cell_type": "code",
   "execution_count": 23,
   "metadata": {},
   "outputs": [],
   "source": [
    "count_numeric_cols = []\n",
    "for col in count_df.schema:\n",
    "    if isinstance(col.dataType, IntegerType) or isinstance(col.dataType, FloatType):\n",
    "        if col.name not in ['above_threshold', 'Date_Time']:\n",
    "            count_numeric_cols.append(col.name)"
   ]
  },
  {
   "cell_type": "code",
   "execution_count": 28,
   "metadata": {},
   "outputs": [
    {
     "name": "stdout",
     "output_type": "stream",
     "text": [
      "+-------+-----------------+------------------+------------------+------------------+------------------+-----------------+\n",
      "|summary|               ID|              Year|             MDate|              Time|         Sensor_ID|    Hourly_Counts|\n",
      "+-------+-----------------+------------------+------------------+------------------+------------------+-----------------+\n",
      "|  count|          3435106|           3435106|           3435106|           3435106|           3435106|          3435106|\n",
      "|   mean|        1717553.5|2016.0032330880038|15.751918863639142|11.459955238644746|22.978422791028866|560.7805942524044|\n",
      "| stddev|991629.8312350252|3.1237869143646275|  8.79918757461428| 6.943473866829414|16.229792156265397|809.9942576353371|\n",
      "|    min|                1|              2009|                 1|                 0|                 1|                0|\n",
      "|    25%|           858830|              2014|                 8|                 5|                 9|               50|\n",
      "|    50%|          1717623|              2016|                16|                11|                19|              210|\n",
      "|    75%|          2576510|              2019|                23|                17|                34|              722|\n",
      "|    max|          3435106|              2020|                31|                23|                71|            15979|\n",
      "+-------+-----------------+------------------+------------------+------------------+------------------+-----------------+\n",
      "\n"
     ]
    }
   ],
   "source": [
    "count_df.select(count_numeric_cols).summary().show()"
   ]
  },
  {
   "cell_type": "code",
   "execution_count": 31,
   "metadata": {},
   "outputs": [
    {
     "name": "stdout",
     "output_type": "stream",
     "text": [
      "+---------------+-------+\n",
      "|above_threshold|  count|\n",
      "+---------------+-------+\n",
      "|              1| 250942|\n",
      "|              0|3184164|\n",
      "+---------------+-------+\n",
      "\n"
     ]
    }
   ],
   "source": [
    "count_df.groupBy('above_threshold').count().show()"
   ]
  },
  {
   "cell_type": "code",
   "execution_count": 57,
   "metadata": {},
   "outputs": [],
   "source": [
    "log_count_df = count_df.select(F.log10(count_df.Hourly_Counts + 1).alias('log(counts)')).toPandas()"
   ]
  },
  {
   "cell_type": "code",
   "execution_count": 58,
   "metadata": {},
   "outputs": [
    {
     "data": {
      "image/png": "[encoded data removed]",
      "text/plain": [
       "<Figure size 432x288 with 1 Axes>"
      ]
     },
     "metadata": {
      "needs_background": "light"
     },
     "output_type": "display_data"
    }
   ],
   "source": [
    "log_count_df.hist()\n",
    "plt.xlabel('log(hourly counts + 1)')\n",
    "plt.title('log-scaled hourly counts')\n",
    "plt.show()"
   ]
  },
  {
   "cell_type": "code",
   "execution_count": 70,
   "metadata": {},
   "outputs": [],
   "source": [
    "avg_daily_c_by_m = count_df.withColumn('Month', F.month(count_df.Date_Time))\\\n",
    "         .groupBy('Year', 'Month', 'MDate')\\\n",
    "        .agg(F.sum('Hourly_Counts').alias('daily_counts'))\\\n",
    "        .groupBy('Month')\\\n",
    "        .agg(F.mean('daily_counts').alias('average_daily_counts')).toPandas()"
   ]
  },
  {
   "cell_type": "code",
   "execution_count": 81,
   "metadata": {},
   "outputs": [
    {
     "data": {
      "text/plain": [
       "<AxesSubplot:xlabel='Month'>"
      ]
     },
     "execution_count": 81,
     "metadata": {},
     "output_type": "execute_result"
    },
    {
     "data": {
      "image/png": "[encoded data removed]",
      "text/plain": [
       "<Figure size 432x288 with 1 Axes>"
      ]
     },
     "metadata": {
      "needs_background": "light"
     },
     "output_type": "display_data"
    }
   ],
   "source": [
    "avg_daily_c_by_m.sort_values('Month').plot(x='Month', y='average_daily_counts')"
   ]
  },
  {
   "cell_type": "code",
   "execution_count": 90,
   "metadata": {},
   "outputs": [],
   "source": [
    "joined_df = count_df.join(sensor_df, 'sensor_id')\n",
    "location_counts = joined_df.groupBy('latitude', 'longitude').agg(F.mean('Hourly_Counts').alias('location_avg_counts'))\\\n",
    "                    .select('latitude', 'longitude', 'location_avg_counts').toPandas()"
   ]
  },
  {
   "cell_type": "code",
   "execution_count": 94,
   "metadata": {},
   "outputs": [
    {
     "data": {
      "text/plain": [
       "<AxesSubplot:xlabel='latitude', ylabel='longitude'>"
      ]
     },
     "execution_count": 94,
     "metadata": {},
     "output_type": "execute_result"
    },
    {
     "data": {
      "image/png": "[encoded data removed]",
      "text/plain": [
       "<Figure size 432x288 with 2 Axes>"
      ]
     },
     "metadata": {
      "needs_background": "light"
     },
     "output_type": "display_data"
    }
   ],
   "source": [
    "location_counts.plot.scatter(x='latitude', y='longitude', c='location_avg_counts', colormap='Reds')"
   ]
  },
  {
   "cell_type": "code",
   "execution_count": 97,
   "metadata": {},
   "outputs": [],
   "source": [
    "direction_counts = joined_df.groupBy('direction_1', 'direction_2')\\\n",
    "    .agg(F.mean('Hourly_Counts').alias('direction_counts')).toPandas()"
   ]
  },
  {
   "cell_type": "code",
   "execution_count": 111,
   "metadata": {},
   "outputs": [],
   "source": [
    "direction_counts['direction'] = direction_counts.direction_1 + '|' + direction_counts.direction_2"
   ]
  },
  {
   "cell_type": "code",
   "execution_count": 113,
   "metadata": {},
   "outputs": [
    {
     "data": {
      "text/plain": [
       "<AxesSubplot:xlabel='direction'>"
      ]
     },
     "execution_count": 113,
     "metadata": {},
     "output_type": "execute_result"
    },
    {
     "data": {
      "image/png": "[encoded data removed]",
      "text/plain": [
       "<Figure size 432x288 with 1 Axes>"
      ]
     },
     "metadata": {
      "needs_background": "light"
     },
     "output_type": "display_data"
    }
   ],
   "source": [
    "direction_counts.plot.bar(x='direction')"
   ]
  },
  {
   "cell_type": "markdown",
   "metadata": {},
   "source": [
    "## 2"
   ]
  },
  {
   "cell_type": "code",
   "execution_count": 151,
   "metadata": {},
   "outputs": [],
   "source": [
    "from pyspark.ml import Pipeline\n",
    "from pyspark.ml.classification import DecisionTreeClassifier, GBTClassifier\n",
    "from pyspark.ml.feature import StringIndexer\n",
    "from pyspark.ml.feature import OneHotEncoder\n",
    "from pyspark.ml.feature import VectorAssembler\n",
    "from pyspark.ml.regression import DecisionTreeRegressor, GBTRegressor"
   ]
  },
  {
   "cell_type": "code",
   "execution_count": 126,
   "metadata": {},
   "outputs": [],
   "source": [
    "df = count_df.join(sensor_df, 'sensor_id')"
   ]
  },
  {
   "cell_type": "code",
   "execution_count": 117,
   "metadata": {},
   "outputs": [
    {
     "name": "stdout",
     "output_type": "stream",
     "text": [
      "root\n",
      " |-- Sensor_ID: integer (nullable = true)\n",
      " |-- ID: integer (nullable = true)\n",
      " |-- Date_Time: timestamp (nullable = true)\n",
      " |-- Year: integer (nullable = true)\n",
      " |-- Month: string (nullable = true)\n",
      " |-- MDate: integer (nullable = true)\n",
      " |-- Day: string (nullable = true)\n",
      " |-- Time: integer (nullable = true)\n",
      " |-- Sensor_Name: string (nullable = true)\n",
      " |-- Hourly_Counts: integer (nullable = true)\n",
      " |-- above_threshold: integer (nullable = false)\n",
      " |-- sensor_description: string (nullable = true)\n",
      " |-- sensor_name: string (nullable = true)\n",
      " |-- installation_date: date (nullable = true)\n",
      " |-- status: string (nullable = true)\n",
      " |-- note: string (nullable = true)\n",
      " |-- direction_1: string (nullable = true)\n",
      " |-- direction_2: string (nullable = true)\n",
      " |-- latitude: float (nullable = true)\n",
      " |-- longitude: float (nullable = true)\n",
      " |-- location: string (nullable = true)\n",
      "\n"
     ]
    }
   ],
   "source": [
    "df.printSchema()"
   ]
  },
  {
   "cell_type": "code",
   "execution_count": 128,
   "metadata": {},
   "outputs": [],
   "source": [
    "df = df.withColumn('Day', F.dayofweek('Date_Time')).withColumn('Month', F.month('Date_Time'))"
   ]
  },
  {
   "cell_type": "code",
   "execution_count": 174,
   "metadata": {},
   "outputs": [],
   "source": [
    "previous_time_df = df.withColumn('Time', df.Time + 1)\\\n",
    "                    .withColumnRenamed('Hourly_Counts', 'Preivous_Counts')\\\n",
    "                    .select('Time', 'Preivous_Counts', 'Year', 'Month', 'MDate', 'sensor_id')\n",
    "df_with_previous = df.join(previous_time_df, ['Time', 'Year', 'Month', 'MDate', 'sensor_id'], how='inner')\\\n",
    "                     .filter(F.col('Time') >= 9).na.fill('NA').cache() # NA for null direction"
   ]
  },
  {
   "cell_type": "code",
   "execution_count": 175,
   "metadata": {},
   "outputs": [],
   "source": [
    "features = ['latitude', 'longitude', 'direction_1', 'direction_2', 'Month', 'MDate', 'Year', 'Day', 'Time', 'Previous_Counts']"
   ]
  },
  {
   "cell_type": "code",
   "execution_count": 176,
   "metadata": {},
   "outputs": [],
   "source": [
    "numeric_cols = []\n",
    "str_cols = []\n",
    "for col in df_with_previous.schema:\n",
    "    if col.name in features:\n",
    "        if isinstance(col.dataType, StringType):\n",
    "            str_cols.append(col.name)\n",
    "        else:\n",
    "            numeric_cols.append(col.name)"
   ]
  },
  {
   "cell_type": "code",
   "execution_count": 177,
   "metadata": {},
   "outputs": [],
   "source": [
    "inputCols = str_cols\n",
    "outputCols = [col+'_index' for col in str_cols]\n",
    "stage_1 = StringIndexer(inputCols=str_cols, outputCols=outputCols)\n",
    "\n",
    "inputCols_OHE = outputCols\n",
    "outputCols_OHE = [col+'_vec' for col in inputCols]\n",
    "stage_2 = OneHotEncoder(inputCols=inputCols_OHE, outputCols=outputCols_OHE)\n",
    "\n",
    "inputCols = outputCols_OHE + numeric_cols\n",
    "stage_3 = VectorAssembler(inputCols=inputCols, outputCol='features')\n",
    "\n",
    "classifier_dt = DecisionTreeClassifier(maxDepth=6, featuresCol='features', labelCol='above_threshold')\n",
    "classifier_gbt = GBTClassifier(featuresCol='features', labelCol='above_threshold')\n",
    "\n",
    "regressor_dt = DecisionTreeRegressor(maxDepth=6, featuresCol='features', labelCol='Hourly_Counts')\n",
    "regressor_gbt = GBTRegressor(featuresCol='features', labelCol='Hourly_Counts')"
   ]
  },
  {
   "cell_type": "code",
   "execution_count": 178,
   "metadata": {},
   "outputs": [],
   "source": [
    "c_dt_pipeline = Pipeline(stages=[stage_1, stage_2, stage_3, classifier_dt])\n",
    "c_gbt_pipeline = Pipeline(stages=[stage_1, stage_2, stage_3, classifier_gbt])\n",
    "r_dt_pipeline = Pipeline(stages=[stage_1, stage_2, stage_3, regressor_dt])\n",
    "r_gbt_pipeline = Pipeline(stages=[stage_1, stage_2, stage_3, regressor_gbt])"
   ]
  },
  {
   "cell_type": "code",
   "execution_count": 179,
   "metadata": {},
   "outputs": [],
   "source": [
    "df_train = df_with_previous.filter((F.col('Year')>=2014)&(F.col('Year')<=2018)).cache()\n",
    "df_test = df_with_previous.filter(F.col('Year')==2019).cache()"
   ]
  },
  {
   "cell_type": "code",
   "execution_count": 180,
   "metadata": {},
   "outputs": [
    {
     "data": {
      "text/plain": [
       "1102917"
      ]
     },
     "execution_count": 180,
     "metadata": {},
     "output_type": "execute_result"
    }
   ],
   "source": [
    "df_train.count()"
   ]
  },
  {
   "cell_type": "code",
   "execution_count": 181,
   "metadata": {},
   "outputs": [
    {
     "data": {
      "text/plain": [
       "285530"
      ]
     },
     "execution_count": 181,
     "metadata": {},
     "output_type": "execute_result"
    }
   ],
   "source": [
    "df_test.count()"
   ]
  },
  {
   "cell_type": "code",
   "execution_count": 183,
   "metadata": {},
   "outputs": [],
   "source": [
    "# Training\n",
    "classifier_dt = c_dt_pipeline.fit(df_train)\n",
    "classifier_gbt = c_gbt_pipeline.fit(df_train)"
   ]
  },
  {
   "cell_type": "code",
   "execution_count": 185,
   "metadata": {},
   "outputs": [],
   "source": [
    "# Prediction\n",
    "prediction_dt = classifier_dt.transform(df_test)"
   ]
  },
  {
   "cell_type": "code",
   "execution_count": 186,
   "metadata": {},
   "outputs": [],
   "source": [
    "prediction_gbt = classifier_gbt.transform(df_test)"
   ]
  },
  {
   "cell_type": "code",
   "execution_count": 187,
   "metadata": {},
   "outputs": [
    {
     "name": "stdout",
     "output_type": "stream",
     "text": [
      "+---------------+----------+------+\n",
      "|above_threshold|prediction| count|\n",
      "+---------------+----------+------+\n",
      "|              1|       0.0| 10665|\n",
      "|              0|       0.0|244630|\n",
      "|              1|       1.0| 20376|\n",
      "|              0|       1.0|  9859|\n",
      "+---------------+----------+------+\n",
      "\n"
     ]
    }
   ],
   "source": [
    "prediction_dt.groupBy('above_threshold', 'prediction').count().show()"
   ]
  },
  {
   "cell_type": "code",
   "execution_count": 189,
   "metadata": {},
   "outputs": [
    {
     "name": "stdout",
     "output_type": "stream",
     "text": [
      "+---------------+----------+------+\n",
      "|above_threshold|prediction| count|\n",
      "+---------------+----------+------+\n",
      "|              1|       0.0| 12994|\n",
      "|              0|       0.0|248691|\n",
      "|              1|       1.0| 18047|\n",
      "|              0|       1.0|  5798|\n",
      "+---------------+----------+------+\n",
      "\n"
     ]
    }
   ],
   "source": [
    "prediction_gbt.groupBy('above_threshold', 'prediction').count().show()"
   ]
  },
  {
   "cell_type": "code",
   "execution_count": 200,
   "metadata": {},
   "outputs": [
    {
     "name": "stdout",
     "output_type": "stream",
     "text": [
      "accuracy: 0.9281, recall:0.6564, precision:0.6739\n",
      "accuracy: 0.9342, recall:0.5814, precision:0.7568\n"
     ]
    }
   ],
   "source": [
    "def compute_metrics(predictions):\n",
    "    TN = predictions.filter('prediction = 0 AND above_threshold = 0').count()\n",
    "    TP = predictions.filter('prediction = 1 AND above_threshold = 1').count()\n",
    "    FN = predictions.filter('prediction = 0 AND above_threshold = 1').count()\n",
    "    FP = predictions.filter('prediction = 1 AND above_threshold = 0').count()\n",
    "\n",
    "    # calculate metrics by the confusion matrix\n",
    "    accuracy = (TP+TN)/(predictions.count())\n",
    "    precision = TP/(TP+FP)\n",
    "    recall = TP/(TP+FN)\n",
    "    return accuracy,recall, precision\n",
    "\n",
    "print('accuracy: %.4f, recall:%.4f, precision:%.4f'%compute_metrics(prediction_dt))\n",
    "print('accuracy: %.4f, recall:%.4f, precision:%.4f'%compute_metrics(prediction_gbt))"
   ]
  },
  {
   "cell_type": "code",
   "execution_count": 203,
   "metadata": {},
   "outputs": [
    {
     "name": "stdout",
     "output_type": "stream",
     "text": [
      "0.894182286946311\n"
     ]
    }
   ],
   "source": [
    "from pyspark.ml.evaluation import BinaryClassificationEvaluator\n",
    "\n",
    "# Evaluate model Decision Tree\n",
    "evaluator = BinaryClassificationEvaluator(rawPredictionCol=\"rawPrediction\", labelCol='above_threshold')\n",
    "auc_dt = evaluator.evaluate(prediction_dt)\n",
    "print(auc_dt)"
   ]
  },
  {
   "cell_type": "code",
   "execution_count": 204,
   "metadata": {},
   "outputs": [
    {
     "name": "stdout",
     "output_type": "stream",
     "text": [
      "0.9586811485129203\n",
      "areaUnderROC\n"
     ]
    }
   ],
   "source": [
    "evaluator = BinaryClassificationEvaluator(rawPredictionCol=\"rawPrediction\", labelCol='above_threshold')\n",
    "auc_dt = evaluator.evaluate(prediction_gbt)\n",
    "print(auc_dt)\n",
    "print(evaluator.getMetricName())"
   ]
  },
  {
   "cell_type": "code",
   "execution_count": null,
   "metadata": {},
   "outputs": [],
   "source": [
    "# Persist\n",
    "c_gbt_pipeline.save(\"ClassifierModel\")"
   ]
  },
  {
   "cell_type": "code",
   "execution_count": 213,
   "metadata": {},
   "outputs": [
    {
     "name": "stdout",
     "output_type": "stream",
     "text": [
      "DecisionTreeClassificationModel: uid=DecisionTreeClassifier_5f8761272cd9, depth=6, numNodes=55, numClasses=2, numFeatures=15\n",
      "  If (feature 14 <= 144.96420288085938)\n",
      "   If (feature 8 <= 18.5)\n",
      "    If (feature 13 <= -37.81882095336914)\n",
      "     If (feature 13 <= -37.81898498535156)\n",
      "      Predict: 0.0\n",
      "     Else (feature 13 > -37.81898498535156)\n",
      "      If (feature 12 <= 1.5)\n",
      "       Predict: 0.0\n",
      "      Else (feature 12 > 1.5)\n",
      "       If (feature 12 <= 6.5)\n",
      "        Predict: 1.0\n",
      "       Else (feature 12 > 6.5)\n",
      "        Predict: 0.0\n",
      "    Else (feature 13 > -37.81882095336914)\n",
      "     If (feature 13 <= -37.81111717224121)\n",
      "      Predict: 0.0\n",
      "     Else (feature 13 > -37.81111717224121)\n",
      "      If (feature 2 in {1.0})\n",
      "       If (feature 8 <= 16.5)\n",
      "        Predict: 0.0\n",
      "       Else (feature 8 > 16.5)\n",
      "        Predict: 1.0\n",
      "      Else (feature 2 not in {1.0})\n",
      "       Predict: 0.0\n",
      "   Else (feature 8 > 18.5)\n",
      "    If (feature 11 <= 30.5)\n",
      "     Predict: 0.0\n",
      "    Else (feature 11 > 30.5)\n",
      "     If (feature 10 <= 10.5)\n",
      "      Predict: 0.0\n",
      "     Else (feature 10 > 10.5)\n",
      "      If (feature 14 <= 144.9471435546875)\n",
      "       If (feature 13 <= -37.81868553161621)\n",
      "        Predict: 0.0\n",
      "       Else (feature 13 > -37.81868553161621)\n",
      "        Predict: 1.0\n",
      "      Else (feature 14 > 144.9471435546875)\n",
      "       Predict: 0.0\n",
      "  Else (feature 14 > 144.96420288085938)\n",
      "   If (feature 14 <= 144.9663314819336)\n",
      "    If (feature 8 <= 18.5)\n",
      "     If (feature 8 <= 11.5)\n",
      "      Predict: 0.0\n",
      "     Else (feature 8 > 11.5)\n",
      "      If (feature 13 <= -37.81298637390137)\n",
      "       Predict: 1.0\n",
      "      Else (feature 13 > -37.81298637390137)\n",
      "       If (feature 2 in {0.0})\n",
      "        Predict: 0.0\n",
      "       Else (feature 2 not in {0.0})\n",
      "        Predict: 1.0\n",
      "    Else (feature 8 > 18.5)\n",
      "     If (feature 14 <= 144.96434783935547)\n",
      "      If (feature 8 <= 20.5)\n",
      "       If (feature 12 <= 5.5)\n",
      "        Predict: 0.0\n",
      "       Else (feature 12 > 5.5)\n",
      "        Predict: 1.0\n",
      "      Else (feature 8 > 20.5)\n",
      "       Predict: 0.0\n",
      "     Else (feature 14 > 144.96434783935547)\n",
      "      If (feature 13 <= -37.820146560668945)\n",
      "       If (feature 12 <= 5.5)\n",
      "        Predict: 0.0\n",
      "       Else (feature 12 > 5.5)\n",
      "        Predict: 1.0\n",
      "      Else (feature 13 > -37.820146560668945)\n",
      "       Predict: 0.0\n",
      "   Else (feature 14 > 144.9663314819336)\n",
      "    If (feature 13 <= -37.81569290161133)\n",
      "     If (feature 14 <= 144.9680633544922)\n",
      "      If (feature 8 <= 19.5)\n",
      "       If (feature 8 <= 11.5)\n",
      "        Predict: 0.0\n",
      "       Else (feature 8 > 11.5)\n",
      "        Predict: 1.0\n",
      "      Else (feature 8 > 19.5)\n",
      "       Predict: 0.0\n",
      "     Else (feature 14 > 144.9680633544922)\n",
      "      Predict: 0.0\n",
      "    Else (feature 13 > -37.81569290161133)\n",
      "     Predict: 0.0\n",
      "\n"
     ]
    }
   ],
   "source": [
    "print(classifier_dt.stages[-1].toDebugString)"
   ]
  },
  {
   "cell_type": "code",
   "execution_count": 227,
   "metadata": {},
   "outputs": [],
   "source": [
    "top_3_features = classifier_dt.stages[-1].featureImportances.toArray().argsort()[:-4:-1]"
   ]
  },
  {
   "cell_type": "code",
   "execution_count": 232,
   "metadata": {},
   "outputs": [
    {
     "data": {
      "text/plain": [
       "array([0.31738744, 0.3124681 , 0.24778336])"
      ]
     },
     "execution_count": 232,
     "metadata": {},
     "output_type": "execute_result"
    }
   ],
   "source": [
    "classifier_dt.stages[-1].featureImportances.toArray()[top_3_features]"
   ]
  },
  {
   "cell_type": "code",
   "execution_count": 233,
   "metadata": {},
   "outputs": [
    {
     "data": {
      "text/plain": [
       "array([14,  8, 13])"
      ]
     },
     "execution_count": 233,
     "metadata": {},
     "output_type": "execute_result"
    }
   ],
   "source": [
    "top_3_features"
   ]
  },
  {
   "cell_type": "code",
   "execution_count": 236,
   "metadata": {},
   "outputs": [
    {
     "data": {
      "text/plain": [
       "{'numeric': [{'idx': 8, 'name': 'Time'},\n",
       "  {'idx': 9, 'name': 'Year'},\n",
       "  {'idx': 10, 'name': 'Month'},\n",
       "  {'idx': 11, 'name': 'MDate'},\n",
       "  {'idx': 12, 'name': 'Day'},\n",
       "  {'idx': 13, 'name': 'latitude'},\n",
       "  {'idx': 14, 'name': 'longitude'}],\n",
       " 'binary': [{'idx': 0, 'name': 'direction_1_vec_East'},\n",
       "  {'idx': 1, 'name': 'direction_1_vec_South'},\n",
       "  {'idx': 2, 'name': 'direction_1_vec_North'},\n",
       "  {'idx': 3, 'name': 'direction_1_vec_West'},\n",
       "  {'idx': 4, 'name': 'direction_2_vec_West'},\n",
       "  {'idx': 5, 'name': 'direction_2_vec_North'},\n",
       "  {'idx': 6, 'name': 'direction_2_vec_South'},\n",
       "  {'idx': 7, 'name': 'direction_2_vec_East'}]}"
      ]
     },
     "execution_count": 236,
     "metadata": {},
     "output_type": "execute_result"
    }
   ],
   "source": [
    "prediction_dt.schema[\"features\"].metadata[\"ml_attr\"][\"attrs\"]"
   ]
  },
  {
   "cell_type": "markdown",
   "metadata": {},
   "source": [
    "From above, we know top 3 features is longitude(0.31738744), Time, latitude"
   ]
  },
  {
   "cell_type": "markdown",
   "metadata": {},
   "source": [
    "Case 2"
   ]
  },
  {
   "cell_type": "code",
   "execution_count": 237,
   "metadata": {},
   "outputs": [],
   "source": [
    "regressor_dt = r_dt_pipeline.fit(df_train)\n",
    "regressor_gbt = r_gbt_pipeline.fit(df_train)"
   ]
  },
  {
   "cell_type": "code",
   "execution_count": 238,
   "metadata": {},
   "outputs": [],
   "source": [
    "prediction_dt = regressor_dt.transform(df_test)\n",
    "prediction_gbt = regressor_gbt.transform(df_test)"
   ]
  },
  {
   "cell_type": "code",
   "execution_count": 239,
   "metadata": {},
   "outputs": [],
   "source": [
    "from pyspark.mllib.evaluation import RegressionMetrics"
   ]
  },
  {
   "cell_type": "code",
   "execution_count": 251,
   "metadata": {},
   "outputs": [
    {
     "name": "stdout",
     "output_type": "stream",
     "text": [
      "RMSE = 532.3730373347861\n",
      "R-squared = 0.6286186709622912\n"
     ]
    }
   ],
   "source": [
    "predictions = prediction_dt.rdd.map(lambda x: (x['prediction'], float(x['Hourly_Counts'])))\n",
    "\n",
    "metrics = RegressionMetrics(predictions)\n",
    "\n",
    "print(\"RMSE = %s\" % metrics.rootMeanSquaredError)\n",
    "\n",
    "print(\"R-squared = %s\" % metrics.r2)"
   ]
  },
  {
   "cell_type": "code",
   "execution_count": 252,
   "metadata": {},
   "outputs": [
    {
     "name": "stdout",
     "output_type": "stream",
     "text": [
      "RMSE = 463.414358201476\n",
      "R-squared = 0.718598159674394\n"
     ]
    }
   ],
   "source": [
    "predictions = prediction_gbt.rdd.map(lambda x: (x['prediction'], float(x['Hourly_Counts'])))\n",
    "\n",
    "metrics = RegressionMetrics(predictions)\n",
    "\n",
    "print(\"RMSE = %s\" % metrics.rootMeanSquaredError)\n",
    "\n",
    "print(\"R-squared = %s\" % metrics.r2)"
   ]
  },
  {
   "cell_type": "code",
   "execution_count": 253,
   "metadata": {},
   "outputs": [],
   "source": [
    "regressor_gbt.save('RegressorModel')"
   ]
  },
  {
   "cell_type": "code",
   "execution_count": 256,
   "metadata": {},
   "outputs": [],
   "source": [
    "from pyspark.ml.clustering import KMeans\n",
    "customer_df = spark.createDataFrame([\n",
    "    (0,19,15,39),\n",
    "    (0,21,15,81),\n",
    "    (1,20,16,6),\n",
    "    (1,23,16,77),\n",
    "    (1,31,17,40),\n",
    "    (1,22,17,76),\n",
    "    (1,35,18,6),\n",
    "    (1,23,18,94),\n",
    "    (0,64,19,3),\n",
    "    (1,30,19,72),\n",
    "    (0,67,19,14),\n",
    "    (1,35,19,99),\n",
    "    (1,58,20,15)],\n",
    "['gender', 'age', 'annual_income', 'spending_score'])\n",
    "assembler = VectorAssembler(\n",
    "inputCols=['gender', 'age', 'annual_income', 'spending_score'],\n",
    "outputCol='features')\n",
    "kmeans = KMeans(k=4).fit(assembler.transform(customer_df))"
   ]
  },
  {
   "cell_type": "code",
   "execution_count": 257,
   "metadata": {},
   "outputs": [
    {
     "data": {
      "text/html": [
       "\n",
       "        <div>\n",
       "            <p><b>SparkContext</b></p>\n",
       "\n",
       "            <p><a href=\"http://192.168.182.129:4041\">Spark UI</a></p>\n",
       "\n",
       "            <dl>\n",
       "              <dt>Version</dt>\n",
       "                <dd><code>v3.0.0</code></dd>\n",
       "              <dt>Master</dt>\n",
       "                <dd><code>local[*]</code></dd>\n",
       "              <dt>AppName</dt>\n",
       "                <dd><code>A2 xxxx</code></dd>\n",
       "            </dl>\n",
       "        </div>\n",
       "        "
      ],
      "text/plain": [
       "<SparkContext master=local[*] appName=A2 xxxx>"
      ]
     },
     "execution_count": 257,
     "metadata": {},
     "output_type": "execute_result"
    }
   ],
   "source": [
    "sc"
   ]
  },
  {
   "cell_type": "code",
   "execution_count": null,
   "metadata": {},
   "outputs": [],
   "source": []
  }
 ],
 "metadata": {
  "kernelspec": {
   "display_name": "Python 3",
   "language": "python",
   "name": "python3"
  },
  "language_info": {
   "codemirror_mode": {
    "name": "ipython",
    "version": 3
   },
   "file_extension": ".py",
   "mimetype": "text/x-python",
   "name": "python",
   "nbconvert_exporter": "python",
   "pygments_lexer": "ipython3",
   "version": "3.8.2"
  }
 },
 "nbformat": 4,
 "nbformat_minor": 4
}

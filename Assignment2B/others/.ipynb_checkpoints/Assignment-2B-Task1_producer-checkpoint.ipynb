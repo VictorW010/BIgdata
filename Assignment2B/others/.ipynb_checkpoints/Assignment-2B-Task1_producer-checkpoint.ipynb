{
 "cells": [
  {
   "cell_type": "markdown",
   "metadata": {},
   "source": [
    "# FIT5202 - Data processing for Big Data\n",
    "\n",
    "\n",
    "#### Assignment 2B: Using real-time streaming data to predict pedestrian traffic\n",
    "- <strong>Student Name: Shizhen Wang</strong>\n",
    "- <strong>Student Id: 2933995</strong>"
   ]
  },
  {
   "cell_type": "code",
   "execution_count": null,
   "metadata": {},
   "outputs": [],
   "source": [
    "# import statements\n",
    "from time import sleep\n",
    "from json import dumps\n",
    "from kafka import KafkaProducer\n",
    "import pandas as pd\n",
    "\n",
    "def publish_message(producer_instance, topic_name, data):\n",
    "    try:\n",
    "        producer_instance.send(topic_name, data)\n",
    "        print('Message published successfully. Data: ' + str(data))\n",
    "    except Exception as ex:\n",
    "        print('Exception in publishing message.')\n",
    "        print(str(ex))\n",
    "#  dumps(): converts a Python object into a json string\n",
    "def connect_kafka_producer():\n",
    "    _producer = None\n",
    "    try:\n",
    "        _producer = KafkaProducer(bootstrap_servers=['localhost:9092'],\n",
    "                                  value_serializer=lambda x: dumps(x).encode('ascii'),\n",
    "                                  api_version=(0, 10))\n",
    "    except Exception as ex:\n",
    "        print('Exception while connecting Kafka.')\n",
    "        print(str(ex))\n",
    "    finally:\n",
    "        return _producer\n",
    "    \n",
    "if __name__ == '__main__':\n",
    "   \n",
    "    topic = 'pedestrian_traffic_c'\n",
    "    print('Publishing records..')\n",
    "    SPD = pd.read_csv('Streaming_Pedestrian_December_counts_per_hour.csv')\n",
    "    producer = connect_kafka_producer()\n",
    "    for m in SPD.groupby(['Year', 'Month', 'Mdate']):\n",
    "        for n in m[1].iterrows():\n",
    "            publish_message(producer, topic, n[1].to_dict())\n",
    "            pass\n",
    "        sleep(5)\n",
    "        "
   ]
  }
 ],
 "metadata": {
  "kernelspec": {
   "display_name": "Python 3",
   "language": "python",
   "name": "python3"
  },
  "language_info": {
   "codemirror_mode": {
    "name": "ipython",
    "version": 3
   },
   "file_extension": ".py",
   "mimetype": "text/x-python",
   "name": "python",
   "nbconvert_exporter": "python",
   "pygments_lexer": "ipython3",
   "version": "3.8.2"
  }
 },
 "nbformat": 4,
 "nbformat_minor": 4
}

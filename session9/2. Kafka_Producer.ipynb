{
 "cells": [
  {
   "cell_type": "markdown",
   "metadata": {},
   "source": [
    "### Kafka Producer\n",
    "Produces Current DateTime stamp with a random count continously unless stopped.\n",
    "Produces to the topic <strong>Week8-Stream</strong>"
   ]
  },
  {
   "cell_type": "code",
   "execution_count": 2,
   "metadata": {
    "colab": {},
    "colab_type": "code",
    "id": "rZkdVlxmXmVv",
    "outputId": "e45aa535-22c6-4b34-a6dc-e1f041106f5f"
   },
   "outputs": [
    {
     "name": "stdout",
     "output_type": "stream",
     "text": [
      "Publishing records..\n",
      "Message published successfully. Data: 15:02:51, 11\n",
      "Message published successfully. Data: 15:02:52, 76\n",
      "Message published successfully. Data: 15:02:53, 20\n",
      "Message published successfully. Data: 15:02:54, 8\n",
      "Message published successfully. Data: 15:02:55, 60\n",
      "Message published successfully. Data: 15:02:56, 23\n",
      "Message published successfully. Data: 15:02:57, 49\n",
      "Message published successfully. Data: 15:02:58, 10\n",
      "Message published successfully. Data: 15:02:59, 45\n",
      "Message published successfully. Data: 15:03:00, 14\n",
      "Message published successfully. Data: 15:03:01, 1\n",
      "Message published successfully. Data: 15:03:02, 25\n",
      "Message published successfully. Data: 15:03:03, 18\n",
      "Message published successfully. Data: 15:03:04, 16\n",
      "Message published successfully. Data: 15:03:05, 35\n",
      "Message published successfully. Data: 15:03:06, 5\n",
      "Message published successfully. Data: 15:03:07, 69\n",
      "Message published successfully. Data: 15:03:08, 79\n",
      "Message published successfully. Data: 15:03:09, 99\n",
      "Message published successfully. Data: 15:03:10, 70\n",
      "Message published successfully. Data: 15:03:11, 25\n",
      "Message published successfully. Data: 15:03:12, 35\n",
      "Message published successfully. Data: 15:03:13, 51\n",
      "Message published successfully. Data: 15:03:14, 83\n",
      "Message published successfully. Data: 15:03:15, 70\n",
      "Message published successfully. Data: 15:03:16, 12\n",
      "Message published successfully. Data: 15:03:17, 4\n",
      "Message published successfully. Data: 15:03:18, 58\n",
      "Message published successfully. Data: 15:03:19, 5\n",
      "Message published successfully. Data: 15:03:20, 55\n",
      "Message published successfully. Data: 15:03:21, 83\n",
      "Message published successfully. Data: 15:03:22, 3\n",
      "Message published successfully. Data: 15:03:23, 79\n",
      "Message published successfully. Data: 15:03:24, 30\n",
      "Message published successfully. Data: 15:03:25, 66\n",
      "Message published successfully. Data: 15:03:26, 10\n",
      "Message published successfully. Data: 15:03:27, 97\n",
      "Message published successfully. Data: 15:03:28, 46\n",
      "Message published successfully. Data: 15:03:29, 50\n"
     ]
    },
    {
     "ename": "KeyboardInterrupt",
     "evalue": "",
     "output_type": "error",
     "traceback": [
      "\u001b[0;31m---------------------------------------------------------------------------\u001b[0m",
      "\u001b[0;31mKeyboardInterrupt\u001b[0m                         Traceback (most recent call last)",
      "\u001b[0;32m<ipython-input-2-77344a2d5b5e>\u001b[0m in \u001b[0;36m<module>\u001b[0;34m\u001b[0m\n\u001b[1;32m     40\u001b[0m         \u001b[0mdata\u001b[0m \u001b[0;34m=\u001b[0m \u001b[0mstr\u001b[0m\u001b[0;34m(\u001b[0m\u001b[0mdt\u001b[0m\u001b[0;34m.\u001b[0m\u001b[0mdatetime\u001b[0m\u001b[0;34m.\u001b[0m\u001b[0mnow\u001b[0m\u001b[0;34m(\u001b[0m\u001b[0;34m)\u001b[0m\u001b[0;34m.\u001b[0m\u001b[0mstrftime\u001b[0m\u001b[0;34m(\u001b[0m\u001b[0;34m\"%X\"\u001b[0m\u001b[0;34m)\u001b[0m\u001b[0;34m)\u001b[0m \u001b[0;34m+\u001b[0m \u001b[0;34m', '\u001b[0m \u001b[0;34m+\u001b[0m \u001b[0mstr\u001b[0m\u001b[0;34m(\u001b[0m\u001b[0mrandom\u001b[0m\u001b[0;34m.\u001b[0m\u001b[0mrandrange\u001b[0m\u001b[0;34m(\u001b[0m\u001b[0;36m0\u001b[0m\u001b[0;34m,\u001b[0m\u001b[0;36m100\u001b[0m\u001b[0;34m)\u001b[0m\u001b[0;34m)\u001b[0m\u001b[0;34m\u001b[0m\u001b[0;34m\u001b[0m\u001b[0m\n\u001b[1;32m     41\u001b[0m         \u001b[0mpublish_message\u001b[0m\u001b[0;34m(\u001b[0m\u001b[0mproducer\u001b[0m\u001b[0;34m,\u001b[0m \u001b[0mtopic\u001b[0m\u001b[0;34m,\u001b[0m \u001b[0;34m'parsed'\u001b[0m\u001b[0;34m,\u001b[0m \u001b[0mdata\u001b[0m\u001b[0;34m)\u001b[0m\u001b[0;34m\u001b[0m\u001b[0;34m\u001b[0m\u001b[0m\n\u001b[0;32m---> 42\u001b[0;31m         \u001b[0msleep\u001b[0m\u001b[0;34m(\u001b[0m\u001b[0;36m1\u001b[0m\u001b[0;34m)\u001b[0m\u001b[0;34m\u001b[0m\u001b[0;34m\u001b[0m\u001b[0m\n\u001b[0m\u001b[1;32m     43\u001b[0m     \u001b[0;31m# \"x\" and \"X\" serve to output a hexadecimal number.\u001b[0m\u001b[0;34m\u001b[0m\u001b[0;34m\u001b[0m\u001b[0;34m\u001b[0m\u001b[0m\n\u001b[1;32m     44\u001b[0m     \u001b[0;31m# strftime : convert date, time and datetime objects to its equivalent string\u001b[0m\u001b[0;34m\u001b[0m\u001b[0;34m\u001b[0m\u001b[0;34m\u001b[0m\u001b[0m\n",
      "\u001b[0;31mKeyboardInterrupt\u001b[0m: "
     ]
    }
   ],
   "source": [
    "# import statements\n",
    "from time import sleep\n",
    "from json import dumps\n",
    "from kafka import KafkaProducer\n",
    "import random\n",
    "import datetime as dt\n",
    "\n",
    "\n",
    "def publish_message(producer_instance, topic_name, key, value):\n",
    "    try:\n",
    "        key_bytes = bytes(key, encoding='utf-8')\n",
    "        value_bytes = bytes(value, encoding='utf-8')\n",
    "        producer_instance.send(topic_name, key=key_bytes, value=value_bytes)\n",
    "        producer_instance.flush()# (File) : flushes the internal buffer. \n",
    "        print('Message published successfully. Data: ' + str(data))\n",
    "#       print('Message published successfully, ' + key)\n",
    "    except Exception as ex:\n",
    "        print('Exception in publishing message.')\n",
    "        print(str(ex))\n",
    "        \n",
    "def connect_kafka_producer():\n",
    "    _producer = None\n",
    "    try:\n",
    "        _producer = KafkaProducer(bootstrap_servers=['localhost:9092'],\n",
    "                                  api_version=(0, 10))\n",
    "    except Exception as ex:\n",
    "        print('Exception while connecting Kafka.')\n",
    "        print(str(ex))\n",
    "    finally:\n",
    "        return _producer\n",
    "    \n",
    "if __name__ == '__main__':\n",
    "   \n",
    "    topic = 'Week9-Topic'\n",
    "    \n",
    "    print('Publishing records..')\n",
    "    producer = connect_kafka_producer()\n",
    "     \n",
    "    while True:\n",
    "        data = str(dt.datetime.now().strftime(\"%X\")) + ', ' + str(random.randrange(0,100))\n",
    "        publish_message(producer, topic, 'parsed', data)\n",
    "        sleep(1)\n",
    "    # \"x\" and \"X\" serve to output a hexadecimal number.\n",
    "    # strftime : convert date, time and datetime objects to its equivalent string"
   ]
  },
  {
   "cell_type": "code",
   "execution_count": null,
   "metadata": {
    "colab": {},
    "colab_type": "code",
    "id": "wwJo8yw8XmV2"
   },
   "outputs": [],
   "source": []
  },
  {
   "cell_type": "code",
   "execution_count": null,
   "metadata": {},
   "outputs": [],
   "source": []
  }
 ],
 "metadata": {
  "colab": {
   "name": "Week9_Kafka_Producer01.ipynb",
   "provenance": []
  },
  "kernelspec": {
   "display_name": "Python 3",
   "language": "python",
   "name": "python3"
  },
  "language_info": {
   "codemirror_mode": {
    "name": "ipython",
    "version": 3
   },
   "file_extension": ".py",
   "mimetype": "text/x-python",
   "name": "python",
   "nbconvert_exporter": "python",
   "pygments_lexer": "ipython3",
   "version": "3.8.2"
  }
 },
 "nbformat": 4,
 "nbformat_minor": 1
}

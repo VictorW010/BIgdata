{
 "cells": [
  {
   "cell_type": "code",
   "execution_count": null,
   "metadata": {},
   "outputs": [],
   "source": [
    "# Get a sparkContext object From SparkSession\n",
    "# import SparkConf class\n",
    "# import SparkContext and SparkSession class\n",
    "from pyspark import SparkConf\n",
    "from pyspark import SparkContext\n",
    "from pyspark.sql import SparkSession\n",
    "from pyspark.sql import Row\n",
    "# Datatime.strptime(): string to datetime object\n",
    "from datetime import datetime\n",
    "from pyspark.rdd import RDD\n",
    "\n",
    "# to run locally with as many working processors as local cores on your machine1​\n",
    "master = \"local[*]\"\n",
    "# to configure the Spark app with a proper application name\n",
    "app_name = \"Analysing pedestrian traffic\"\n",
    "spark_conf = SparkConf().setMaster(master).setAppName(app_name)\n",
    "\n",
    "# Create SparkSession\n",
    "spark = SparkSession.builder.config(conf = spark_conf).getOrCreate()\n",
    "sc = spark.sparkContext\n",
    "sc.setLogLevel('ERROR')\n",
    "\n",
    "# to use Melbourne as the session timezone\n",
    "spark.conf.set(\"spark.sql.session.timeZone\", \"Australia/Melbourne\")\n",
    "#spark.conf.set(SQLspark.SESSION_LOCAL_TIMEZONE.key, \"Australia/Melbourne\")"
   ]
  },
  {
   "cell_type": "code",
   "execution_count": null,
   "metadata": {},
   "outputs": [],
   "source": [
    "# Read pCSV file into RDD\n",
    "monthly_count = sc.textFile('Pedestrian_Counting_System_-_Monthly__counts_per_hour.csv')\n",
    "sensor_locations = sc.textFile('Pedestrian_Counting_System_-_Sensor_Locations.csv')"
   ]
  },
  {
   "cell_type": "code",
   "execution_count": null,
   "metadata": {},
   "outputs": [],
   "source": []
  }
 ],
 "metadata": {
  "kernelspec": {
   "display_name": "Python 3",
   "language": "python",
   "name": "python3"
  },
  "language_info": {
   "codemirror_mode": {
    "name": "ipython",
    "version": 3
   },
   "file_extension": ".py",
   "mimetype": "text/x-python",
   "name": "python",
   "nbconvert_exporter": "python",
   "pygments_lexer": "ipython3",
   "version": "3.8.2"
  }
 },
 "nbformat": 4,
 "nbformat_minor": 4
}

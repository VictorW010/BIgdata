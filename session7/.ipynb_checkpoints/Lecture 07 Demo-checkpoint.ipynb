{
 "cells": [
  {
   "cell_type": "code",
   "execution_count": 13,
   "metadata": {},
   "outputs": [],
   "source": [
    "from pyspark import SparkContext\n",
    "from pyspark.sql.session import SparkSession\n",
    "from matplotlib import pyplot as plt\n",
    "from pyspark.ml.feature import VectorAssembler\n",
    "\n",
    "sc = SparkContext.getOrCreate()\n",
    "\n",
    "if (sc is None):\n",
    "    sc = SparkContext(master=\"local[*]\", appName=\"KMeans Clustering\")\n",
    "spark = SparkSession(sparkContext=sc)\n",
    "\n",
    "data_frame = spark.read.csv('iris.csv', header=True, inferSchema=True)       \n",
    "# data_frame.select(\"species\").groupby(\"species\").count().show()"
   ]
  },
  {
   "cell_type": "code",
   "execution_count": 14,
   "metadata": {},
   "outputs": [],
   "source": [
    "cols = ['sepal_length', 'sepal_width', 'petal_length', 'petal_width']\n",
    "assembler = VectorAssembler(inputCols=cols, outputCol='features')\n",
    "assembled_data = assembler.transform(data_frame)\n",
    "\n",
    "drop_list = ['sepal_length', 'sepal_width', 'petal_length', 'petal_width', 'species']\n",
    "assembled_data = assembled_data.select([column for column in assembled_data.columns if column not in drop_list])"
   ]
  },
  {
   "cell_type": "markdown",
   "metadata": {},
   "source": [
    "\n"
   ]
  },
  {
   "cell_type": "code",
   "execution_count": 15,
   "metadata": {},
   "outputs": [
    {
     "data": {
      "text/plain": [
       "<function matplotlib.pyplot.show(close=None, block=None)>"
      ]
     },
     "execution_count": 15,
     "metadata": {},
     "output_type": "execute_result"
    },
    {
     "data": {
      "image/png": "[encoded data removed]",
      "text/plain": [
       "<Figure size 432x288 with 1 Axes>"
      ]
     },
     "metadata": {
      "needs_background": "light"
     },
     "output_type": "display_data"
    }
   ],
   "source": [
    "import numpy as np\n",
    "from matplotlib.ticker import MaxNLocator\n",
    "from pyspark.ml.clustering import BisectingKMeans\n",
    "# http://spark.apache.org/docs/latest/api/python/pyspark.ml.html#pyspark.ml.clustering.BisectingKMeans\n",
    "\n",
    "cost = np.zeros(15)\n",
    "\n",
    "for k in range (2,15):\n",
    "    kmeans = BisectingKMeans()\\\n",
    "    .setK(k)\\\n",
    "    .setSeed(2020)\\\n",
    "    .setFeaturesCol(\"features\")\\\n",
    "    .setPredictionCol(\"cluster\")\n",
    "    model = kmeans.fit(assembled_data)\n",
    "    cost[k] = model.computeCost(assembled_data) #sum of squared distances of data points to their nearest centre\n",
    "\n",
    "fig, ax = plt.subplots()\n",
    "ax.plot(range(2,15), cost[2:15])\n",
    "ax.set_xlabel('k')\n",
    "ax.set_ylabel('cost')\n",
    "ax.xaxis.set_major_locator(MaxNLocator(integer=True))\n",
    "plt.show"
   ]
  },
  {
   "cell_type": "code",
   "execution_count": 17,
   "metadata": {},
   "outputs": [
    {
     "name": "stdout",
     "output_type": "stream",
     "text": [
      "+-------+-----+\n",
      "|cluster|count|\n",
      "+-------+-----+\n",
      "|      1|   59|\n",
      "|      2|   38|\n",
      "|      0|   53|\n",
      "+-------+-----+\n",
      "\n"
     ]
    }
   ],
   "source": [
    "from pyspark.ml import Pipeline\n",
    "#using set number of k for clustering\n",
    "kmeans = BisectingKMeans()\\\n",
    "        .setK(3)\\\n",
    "        .setFeaturesCol(\"features\")\\\n",
    "        .setPredictionCol(\"cluster\")\n",
    "    \n",
    "pipeline = Pipeline(stages=[assembler, kmeans])\n",
    "model = pipeline.fit(data_frame)\n",
    "cluster = model.transform(data_frame)\n",
    "cluster.groupBy('cluster').count().show()"
   ]
  },
  {
   "cell_type": "code",
   "execution_count": null,
   "metadata": {},
   "outputs": [],
   "source": [
    "# Evaluate clustering by computing Within Set Sum of Squared Errors\n",
    "# https://spark.apache.org/docs/latest/mllib-clustering.html\n",
    "def error(point):\n",
    "    center = clusters.centers[clusters.predict(point)]\n",
    "    return sqrt(sum([x**2 for x in (point - center)]))\n",
    "\n",
    "WSSSE = parsedData.map(lambda point: error(point)).reduce(lambda x, y: x + y)\n",
    "print(\"Within Set Sum of Squared Error = \" + str(WSSSE))"
   ]
  },
  {
   "cell_type": "code",
   "execution_count": null,
   "metadata": {},
   "outputs": [],
   "source": []
  }
 ],
 "metadata": {
  "kernelspec": {
   "display_name": "Python 3",
   "language": "python",
   "name": "python3"
  },
  "language_info": {
   "codemirror_mode": {
    "name": "ipython",
    "version": 3
   },
   "file_extension": ".py",
   "mimetype": "text/x-python",
   "name": "python",
   "nbconvert_exporter": "python",
   "pygments_lexer": "ipython3",
   "version": "3.8.2"
  }
 },
 "nbformat": 4,
 "nbformat_minor": 2
}

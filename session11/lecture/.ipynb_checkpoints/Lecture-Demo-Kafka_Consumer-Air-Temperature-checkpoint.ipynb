{
 "cells": [
  {
   "cell_type": "markdown",
   "metadata": {},
   "source": [
    "## Multiple sensors measuring the same things"
   ]
  },
  {
   "cell_type": "code",
   "execution_count": null,
   "metadata": {},
   "outputs": [],
   "source": [
    "# Making imports\n",
    "import pandas as pd\n",
    "import numpy as np\n",
    "import matplotlib.pyplot as plt\n",
    "\n",
    "from kafka import KafkaConsumer\n",
    "import datetime as dt\n",
    "import json\n",
    "\n",
    "# this line is needed for the inline display of graphs in Jupyter Notebook\n",
    "%matplotlib notebook\n",
    "\n",
    "topic = 'topic_temperature'\n",
    "\n",
    "def connect_kafka_consumer():\n",
    "    _consumer = None\n",
    "    try:\n",
    "         _consumer = KafkaConsumer(topic,\n",
    "                                   consumer_timeout_ms=10000, # stop iteration if no message after 10 sec\n",
    "                                   bootstrap_servers=['localhost:9092'],\n",
    "                                   value_deserializer=lambda m: json.loads(m.decode('utf-8')),\n",
    "                                   api_version=(0, 10))\n",
    "    except Exception as ex:\n",
    "        print('Exception while connecting Kafka')\n",
    "        print(str(ex))\n",
    "    finally:\n",
    "        return _consumer\n",
    "\n",
    "def plotSensorGraphs(df_orig,reduction,graph_title,ax_orig,ax_reduced):\n",
    "    # Plot\n",
    "    # Original graph\n",
    "    ax_orig.clear()\n",
    "    df_orig.plot(y=0,use_index=True,legend=False,ax=ax_orig)\n",
    "    ax_orig.set(xlabel='Time', ylabel='Temperature', title=graph_title)\n",
    "    # Reduced graph\n",
    "    ax_reduced.clear()\n",
    "    df_reduced = df_orig.resample(reduction).mean()\n",
    "    df_reduced.plot(y=0,use_index=True,legend=False,ax=ax_reduced)\n",
    "    ax_reduced.set(xlabel='Time', ylabel='Temperature', title=graph_title)"
   ]
  },
  {
   "attachments": {},
   "cell_type": "markdown",
   "metadata": {},
   "source": [
    "### Method 1: Reduce and then Merge\n",
    "#### Step 1: Reduce the granularity of each individual sensor."
   ]
  },
  {
   "cell_type": "code",
   "execution_count": null,
   "metadata": {},
   "outputs": [],
   "source": [
    "def consume_messages(consumer):\n",
    "    try:\n",
    "        fig = plt.figure(figsize=(12,8))\n",
    "        fig.subplots_adjust(hspace=0.8)\n",
    "        # Create canvas with the 6 graphs (3 original + 3 reduced)\n",
    "        ax_1a = fig.add_subplot(231)\n",
    "        ax_1b = fig.add_subplot(234)\n",
    "        ax_2a = fig.add_subplot(232)\n",
    "        ax_2b = fig.add_subplot(235)\n",
    "        ax_3a = fig.add_subplot(233)\n",
    "        ax_3b = fig.add_subplot(236)\n",
    "        \n",
    "        fig.show() # displaying the figure\n",
    "        fig.canvas.draw() # drawing on the canvas\n",
    "        \n",
    "        sensors = {}\n",
    "        df_1a = pd.DataFrame(columns=['Temperature'], index=pd.to_datetime([]))\n",
    "        df_2a = pd.DataFrame(columns=['Temperature'], index=pd.to_datetime([]))\n",
    "        df_3a = pd.DataFrame(columns=['Temperature'], index=pd.to_datetime([]))\n",
    "        # Dictionary with sensor ids and their dataframes\n",
    "        sensors = {'1':df_1a, '2':df_2a, '3':df_3a}\n",
    "        \n",
    "        # Waiting for messages\n",
    "        for message in consumer:\n",
    "            data = message.value # Json object sent by each sensor\n",
    "            # Add record to dataframe\n",
    "            if data['uid'] in sensors:\n",
    "                df_orig = sensors[data['uid']]\n",
    "                record_time = pd.to_datetime(data['datetime'], infer_datetime_format=True)\n",
    "                df_orig.loc[record_time] = pd.Series([float(data['temperature'])],['Temperature'])\n",
    "                if data['uid'] == '1':\n",
    "                    plotSensorGraphs(df_orig,'3H','Melbourne Airport',ax_1a,ax_1b)\n",
    "                elif data['uid'] == '2':\n",
    "                    plotSensorGraphs(df_orig,'3H','Melbourne OlympicPark',ax_2a,ax_2b)\n",
    "                elif data['uid'] == '3':\n",
    "                    plotSensorGraphs(df_orig,'3H','Essendon Airport',ax_3a,ax_3b)\n",
    "                \n",
    "            fig.canvas.draw() # drawing on the canvas\n",
    "    except Exception as ex:\n",
    "        print(str(ex))"
   ]
  },
  {
   "cell_type": "code",
   "execution_count": null,
   "metadata": {},
   "outputs": [],
   "source": [
    "consumer = connect_kafka_consumer()\n",
    "consume_messages(consumer)"
   ]
  },
  {
   "cell_type": "markdown",
   "metadata": {},
   "source": [
    "#### Step 2: Merge reduced granularity into one data stream."
   ]
  },
  {
   "cell_type": "code",
   "execution_count": null,
   "metadata": {},
   "outputs": [],
   "source": [
    "def consume_messages(consumer):\n",
    "    try:\n",
    "        fig = plt.figure(figsize=(9,8))\n",
    "        fig.subplots_adjust(hspace=0.8)\n",
    "        # Create canvas with the 2 graphs (each sensor + combined)\n",
    "        ax_all = fig.add_subplot(211)\n",
    "        ax_reduced = fig.add_subplot(212)\n",
    "        \n",
    "        fig.show() # displaying the figure\n",
    "        fig.canvas.draw() # drawing on the canvas\n",
    "        \n",
    "        sensors = {}\n",
    "        df_1a = pd.DataFrame(columns=['Temperature'], index=pd.to_datetime([]))\n",
    "        df_2a = pd.DataFrame(columns=['Temperature'], index=pd.to_datetime([]))\n",
    "        df_3a = pd.DataFrame(columns=['Temperature'], index=pd.to_datetime([]))\n",
    "        # Dictionary with sensor ids and their dataframes\n",
    "        sensors = {'1':{'orig':df_1a,'reduced':None},\n",
    "                   '2':{'orig':df_2a,'reduced':None},\n",
    "                   '3':{'orig':df_3a,'reduced':None}}\n",
    "        \n",
    "        # Function to plot the graphs\n",
    "        def plotSensorGraphs(df_merge,series_merged_avg):\n",
    "            # Plot\n",
    "            # Original 3 graphs\n",
    "            ax_all.clear()\n",
    "            df_merge.plot(y=[0,1,2],use_index=True,legend=False,ax=ax_all)\n",
    "            ax_all.legend([\"Melbourne Airport\",\"Melbourne Olympic Park\",\"Essendon Airport\"]);\n",
    "            ax_all.set(xlabel='Time', ylabel='Temperature', title='Melbourne')\n",
    "            # Reduced graph\n",
    "            ax_reduced.clear()\n",
    "            series_merged_avg.plot(use_index=True,ax=ax_reduced)\n",
    "            ax_reduced.legend([\"Average 3hours\"]);\n",
    "            ax_reduced.set(xlabel='Time', ylabel='Temperature', title='Melbourne')\n",
    "        \n",
    "        df_1,df_2,df_3 = sensors['1']['orig'],sensors['2']['orig'],sensors['3']['orig']\n",
    "        \n",
    "        # Waiting for messages\n",
    "        for message in consumer:\n",
    "            data = message.value # Json object sent by each sensor\n",
    "            if data['uid'] in sensors:\n",
    "                df_orig = sensors[data['uid']]['orig']\n",
    "                record_time = pd.to_datetime(data['datetime'], infer_datetime_format=True)\n",
    "                df_orig.loc[record_time] = pd.Series([float(data['temperature'])],['Temperature'])\n",
    "                # Reduced granularity of data\n",
    "                sensors[data['uid']]['reduced'] = df_orig.resample('3H').mean()\n",
    "                # Merge reduced data\n",
    "                df_merge = df_1.merge(df_2, left_index=True, right_index=True).merge(df_3, left_index=True, right_index=True)\n",
    "                series_merged_avg = df_merge.mean(axis = 1, skipna = True)\n",
    "                try:\n",
    "                    plotSensorGraphs(df_merge,series_merged_avg)\n",
    "                except Exception as ex:\n",
    "                    print(str(ex))\n",
    "            fig.canvas.draw() # drawing on the canvas\n",
    "    except Exception as ex:\n",
    "        print(str(ex)) "
   ]
  },
  {
   "cell_type": "code",
   "execution_count": null,
   "metadata": {},
   "outputs": [],
   "source": [
    "consume_messages(consumer)"
   ]
  },
  {
   "cell_type": "code",
   "execution_count": null,
   "metadata": {},
   "outputs": [],
   "source": []
  }
 ],
 "metadata": {
  "kernelspec": {
   "display_name": "Python 3",
   "language": "python",
   "name": "python3"
  },
  "language_info": {
   "codemirror_mode": {
    "name": "ipython",
    "version": 3
   },
   "file_extension": ".py",
   "mimetype": "text/x-python",
   "name": "python",
   "nbconvert_exporter": "python",
   "pygments_lexer": "ipython3",
   "version": "3.8.2"
  }
 },
 "nbformat": 4,
 "nbformat_minor": 2
}

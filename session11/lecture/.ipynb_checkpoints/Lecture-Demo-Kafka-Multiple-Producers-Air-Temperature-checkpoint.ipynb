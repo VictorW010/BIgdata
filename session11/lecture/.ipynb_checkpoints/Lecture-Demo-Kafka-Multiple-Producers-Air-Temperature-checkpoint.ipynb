{
 "cells": [
  {
   "cell_type": "code",
   "execution_count": null,
   "metadata": {},
   "outputs": [],
   "source": [
    "# import statements\n",
    "from time import sleep\n",
    "from json import dumps\n",
    "from kafka import KafkaProducer\n",
    "import random\n",
    "import datetime as dt\n",
    "import csv\n",
    "\n",
    "def publish_message(producer_instance, topic_name, data):\n",
    "    try:\n",
    "#         json.dumps(record.asDict())\n",
    "        producer_instance.send(topic_name, data)\n",
    "        print(str(data))\n",
    "    except Exception as ex:\n",
    "        print('Exception in publishing message.')\n",
    "        print(str(ex))\n",
    "        \n",
    "def connect_kafka_producer():\n",
    "    _producer = None\n",
    "    try:\n",
    "        _producer = KafkaProducer(bootstrap_servers=['localhost:9092'],\n",
    "                                  value_serializer=lambda x: dumps(x).encode('ascii'),\n",
    "                                  api_version=(0, 10))\n",
    "    except Exception as ex:\n",
    "        print('Exception while connecting Kafka.')\n",
    "        print(str(ex))\n",
    "    finally:\n",
    "        return _producer\n",
    "    \n",
    "if __name__ == '__main__':\n",
    "   \n",
    "    topic = 'topic_temperature'\n",
    "    print('Publishing records..')\n",
    "    producer01 = connect_kafka_producer()\n",
    "    producer02 = connect_kafka_producer()\n",
    "    producer03 = connect_kafka_producer()\n",
    "    \n",
    "    file1 = 'Melbourne-Airport.csv'\n",
    "    file2 = 'Melbourne-OlympicPark.csv'\n",
    "    file3 = 'Essendon-Airport.csv'\n",
    "    \n",
    "    with open(file1) as csvfile1:\n",
    "        with open(file2) as csvfile2:\n",
    "            with open(file3) as csvfile3:\n",
    "                reader1 = csv.reader(csvfile1, delimiter=',')\n",
    "                reader2 = csv.reader(csvfile2, delimiter=',')\n",
    "                reader3 = csv.reader(csvfile3, delimiter=',')\n",
    "                next(reader1) # Skip header1\n",
    "                next(reader2) # Skip header2\n",
    "                next(reader3) # Skip header3\n",
    "                for ix, row in enumerate(reader1):\n",
    "                    # Each stream will send a unique identifier (uid) to know which sensor the record belongs to\n",
    "                    data1 = {'uid':'1','datetime': str(row[0]), 'temperature' : str(row[1])}\n",
    "                    data2_row = next(reader2)\n",
    "                    data2 = {'uid':'2','datetime': str(row[0]), 'temperature' : str(data2_row[1])}\n",
    "                    data3_row = next(reader3)\n",
    "                    data3 = {'uid':'3','datetime': str(row[0]), 'temperature' : str(data3_row[1])}\n",
    "                    publish_message(producer01, topic, data1)\n",
    "                    publish_message(producer02, topic, data2)\n",
    "                    publish_message(producer03, topic, data3)\n",
    "                    sleep(0.7)\n",
    "                    print (\"=========================================================================\")"
   ]
  },
  {
   "cell_type": "code",
   "execution_count": null,
   "metadata": {},
   "outputs": [],
   "source": []
  },
  {
   "cell_type": "code",
   "execution_count": null,
   "metadata": {},
   "outputs": [],
   "source": []
  }
 ],
 "metadata": {
  "kernelspec": {
   "display_name": "Python 3",
   "language": "python",
   "name": "python3"
  },
  "language_info": {
   "codemirror_mode": {
    "name": "ipython",
    "version": 3
   },
   "file_extension": ".py",
   "mimetype": "text/x-python",
   "name": "python",
   "nbconvert_exporter": "python",
   "pygments_lexer": "ipython3",
   "version": "3.8.2"
  }
 },
 "nbformat": 4,
 "nbformat_minor": 2
}
